{
 "cells": [
  {
   "cell_type": "markdown",
   "metadata": {},
   "source": [
    "# 任务2 数据清洗(2天)\n",
    "每一步都要认真完成，附上代码，最终效果截图\n",
    "\n",
    "## 缺失值分析及处理\n",
    "\n",
    "* 缺失值出现的原因分析\n",
    "* 采取合适的方式对缺失值进行填充\n",
    "\n",
    "## 异常值分析及处理\n",
    "\n",
    "* 根据测试集数据的分布处理训练集的数据分布\n",
    "\n",
    "* 使用合适的方法找出异常值\n",
    "* 对异常值进行处理\n",
    "\n",
    "## 深度清洗\n",
    "\n",
    "* 分析每一个communityName、city、region、plate的数据分布并对其进行数据清洗\n",
    "\n",
    "\n",
    "\n"
   ]
  },
  {
   "cell_type": "markdown",
   "metadata": {},
   "source": [
    "## 简要分析\n",
    "在任务一中，我们对于赛题、数据总体情况、缺失值、特征分布等信息做了简要的分析。在本次任务中就是基于任务一的分析做数据清理工作。  \n",
    "在一些场景中，任务一和任务二合并起来会被称作EDA(Exploratory Data Analysis-探索性数据分析)。当然真正的EDA包含的内容远不止这两份参考示例所展示了，大家可以自行学习尝试。  \n",
    "  \n",
    "\n",
    "\n",
    "\n",
    "参考资料：   \n",
    "[一文带你探索性数据分析(EDA)\n",
    "](https://www.jianshu.com/p/9325c9f88ee6)"
   ]
  },
  {
   "cell_type": "markdown",
   "metadata": {
    "ExecuteTime": {
     "end_time": "2019-12-24T12:09:13.473805Z",
     "start_time": "2019-12-24T12:09:13.469815Z"
    }
   },
   "source": [
    "# 缺失值处理"
   ]
  },
  {
   "cell_type": "code",
   "execution_count": 29,
   "metadata": {
    "ExecuteTime": {
     "end_time": "2019-12-24T12:27:47.661750Z",
     "start_time": "2019-12-24T12:27:47.646789Z"
    }
   },
   "outputs": [],
   "source": [
    "#coding:utf-8\n",
    "#导入warnings包，利用过滤器来实现忽略警告语句。\n",
    "import warnings\n",
    "warnings.filterwarnings('ignore')\n",
    "\n",
    "# GBDT\n",
    "from sklearn.ensemble import GradientBoostingRegressor\n",
    "# XGBoost\n",
    "import xgboost as xgb\n",
    "# LightGBM\n",
    "import lightgbm as lgb\n",
    "\n",
    "import pandas as pd\n",
    "import numpy as np\n",
    "import matplotlib.pyplot as plt\n",
    "import seaborn as sns\n",
    "from sklearn.model_selection import KFold\n",
    "from sklearn.metrics import r2_score\n",
    "from sklearn.preprocessing import LabelEncoder\n",
    "import pickle\n",
    "import multiprocessing\n",
    "from sklearn.preprocessing import StandardScaler\n",
    "ss = StandardScaler() \n",
    "from sklearn.model_selection import StratifiedKFold\n",
    "from sklearn.linear_model import ElasticNet, Lasso,  BayesianRidge, LassoLarsIC,LinearRegression,LogisticRegression\n",
    "from sklearn.pipeline import make_pipeline\n",
    "from sklearn.preprocessing import RobustScaler\n",
    "from sklearn.model_selection import train_test_split\n",
    "from sklearn.ensemble import IsolationForest\n",
    "import copy"
   ]
  },
  {
   "cell_type": "code",
   "execution_count": 36,
   "metadata": {
    "ExecuteTime": {
     "end_time": "2019-12-24T12:27:48.129500Z",
     "start_time": "2019-12-24T12:27:47.664741Z"
    }
   },
   "outputs": [],
   "source": [
    "#载入数据\n",
    "data_train = pd.read_csv('数据集/train_data.csv')\n",
    "data_train['Type'] = 'Train'\n",
    "data_test = pd.read_csv('数据集/test_a.csv')\n",
    "data_test['Type'] = 'Test'\n",
    "data_all = pd.concat([data_train, data_test], ignore_index=True)\n",
    "data = copy.deepcopy(data_train)"
   ]
  },
  {
   "cell_type": "markdown",
   "metadata": {},
   "source": [
    "## 主要思路分析\n",
    "虽然这步骤是缺失值处理，但还会涉及到一些最最基础的数据处理。  \n",
    "1. **缺失值处理**  \n",
    "缺失值的处理手段大体可以分为：删除、填充、映射到高维(当做类别处理)。  \n",
    "详细的请自行查找相关资料学习。  \n",
    "根据任务一，直接找到的缺失值情况是pu和pv；但是，根据特征nunique分布的分析，可以发现rentType存在\"--\"的情况，这也算是一种缺失值。  \n",
    "此外，诸如rentType的\"未知方式\"；houseToward的\"暂无数据\"等，本质上也算是一种缺失值，但是对于这些缺失方式，我们可以把它当做是特殊的一类处理，而不需要去主动修改或填充值。  \n",
    "  \n",
    "  将rentType的\"--\"转换成\"未知方式\"类别；  \n",
    "  pv/pu的缺失值用均值填充；  \n",
    "  buildYear存在\"暂无信息\"，将其用众数填充。  \n",
    "  \n",
    "    \n",
    "2. **转换object类型数据**  \n",
    "这里直接采用LabelEncoder的方式编码，详细的编码方式请自行查阅相关资料学习。  \n",
    "  \n",
    "  \n",
    "3. **时间字段的处理**  \n",
    "buildYear由于存在\"暂无信息\",所以需要主动将其转换int类型；  \n",
    "tradeTime，将其分割成月和日。  \n",
    "  \n",
    "  \n",
    "4. **删除无关字段**  \n",
    "ID是唯一码，建模无用，所以直接删除；  \n",
    "city只有一个SH值，也直接删除；  \n",
    "tradeTime已经分割成月和日，删除原来字段"
   ]
  },
  {
   "cell_type": "code",
   "execution_count": 32,
   "metadata": {
    "ExecuteTime": {
     "end_time": "2019-12-24T12:27:48.464640Z",
     "start_time": "2019-12-24T12:27:48.133487Z"
    }
   },
   "outputs": [
    {
     "name": "stdout",
     "output_type": "stream",
     "text": [
      "['合租' '整租' '未知方式']\n",
      "['XQ00001' 'XQ00002' 'XQ00003' ... 'XQ04234' 'XQ04235' 'XQ04236']\n",
      "['0室0厅1卫' '1室0厅0卫' '1室0厅1卫' '1室1厅0卫' '1室1厅1卫' '1室1厅2卫' '1室2厅1卫' '1室2厅2卫'\n",
      " '2室0厅0卫' '2室0厅1卫' '2室0厅2卫' '2室1厅0卫' '2室1厅1卫' '2室1厅2卫' '2室1厅3卫' '2室2厅0卫'\n",
      " '2室2厅1卫' '2室2厅2卫' '2室2厅3卫' '2室3厅1卫' '3室0厅0卫' '3室0厅1卫' '3室0厅2卫' '3室1厅0卫'\n",
      " '3室1厅1卫' '3室1厅2卫' '3室1厅3卫' '3室2厅1卫' '3室2厅2卫' '3室2厅3卫' '3室2厅4卫' '3室2厅5卫'\n",
      " '3室3厅2卫' '3室3厅3卫' '3室3厅4卫' '3室4厅4卫' '4室0厅1卫' '4室0厅2卫' '4室0厅4卫' '4室1厅1卫'\n",
      " '4室1厅2卫' '4室1厅3卫' '4室1厅4卫' '4室2厅1卫' '4室2厅2卫' '4室2厅3卫' '4室2厅4卫' '4室2厅5卫'\n",
      " '4室3厅2卫' '4室3厅3卫' '4室3厅4卫' '4室3厅5卫' '4室4厅2卫' '5室1厅1卫' '5室1厅2卫' '5室1厅3卫'\n",
      " '5室1厅5卫' '5室2厅1卫' '5室2厅2卫' '5室2厅3卫' '5室2厅4卫' '5室2厅5卫' '5室2厅6卫' '5室3厅1卫'\n",
      " '5室3厅2卫' '5室3厅3卫' '5室3厅4卫' '5室3厅5卫' '5室3厅6卫' '5室4厅2卫' '5室4厅3卫' '5室4厅4卫'\n",
      " '5室4厅5卫' '5室5厅4卫' '6室1厅1卫' '6室1厅4卫' '6室2厅1卫' '6室2厅2卫' '6室2厅3卫' '6室2厅4卫'\n",
      " '6室2厅5卫' '6室2厅6卫' '6室2厅7卫' '6室3厅2卫' '6室3厅3卫' '6室3厅4卫' '6室3厅5卫' '6室4厅2卫'\n",
      " '6室4厅4卫' '6室4厅5卫' '7室1厅1卫' '7室1厅3卫' '7室1厅7卫' '7室2厅1卫' '7室2厅3卫' '7室2厅4卫'\n",
      " '7室3厅4卫' '7室4厅3卫' '8室2厅3卫' '8室2厅4卫' '8室3厅4卫' '8室4厅4卫' '9室2厅5卫' '9室3厅8卫']\n",
      "['中' '低' '高']\n",
      "['东' '东南' '东西' '北' '南' '南北' '暂无数据' '西' '西北' '西南']\n",
      "['其他' '毛坯' '简装' '精装']\n",
      "['RG00001' 'RG00002' 'RG00003' 'RG00004' 'RG00005' 'RG00006' 'RG00007'\n",
      " 'RG00008' 'RG00009' 'RG00010' 'RG00011' 'RG00012' 'RG00013' 'RG00014'\n",
      " 'RG00015']\n",
      "['BK00001' 'BK00002' 'BK00003' 'BK00004' 'BK00005' 'BK00006' 'BK00007'\n",
      " 'BK00008' 'BK00009' 'BK00010' 'BK00011' 'BK00012' 'BK00013' 'BK00014'\n",
      " 'BK00015' 'BK00016' 'BK00017' 'BK00018' 'BK00019' 'BK00020' 'BK00021'\n",
      " 'BK00022' 'BK00023' 'BK00024' 'BK00025' 'BK00026' 'BK00027' 'BK00028'\n",
      " 'BK00029' 'BK00030' 'BK00031' 'BK00032' 'BK00033' 'BK00034' 'BK00035'\n",
      " 'BK00036' 'BK00037' 'BK00038' 'BK00039' 'BK00040' 'BK00041' 'BK00042'\n",
      " 'BK00043' 'BK00044' 'BK00045' 'BK00046' 'BK00047' 'BK00048' 'BK00049'\n",
      " 'BK00050' 'BK00051' 'BK00052' 'BK00053' 'BK00054' 'BK00055' 'BK00056'\n",
      " 'BK00057' 'BK00058' 'BK00059' 'BK00060' 'BK00061' 'BK00062' 'BK00063'\n",
      " 'BK00064' 'BK00065' 'BK00066']\n"
     ]
    },
    {
     "data": {
      "text/html": [
       "<div>\n",
       "<style scoped>\n",
       "    .dataframe tbody tr th:only-of-type {\n",
       "        vertical-align: middle;\n",
       "    }\n",
       "\n",
       "    .dataframe tbody tr th {\n",
       "        vertical-align: top;\n",
       "    }\n",
       "\n",
       "    .dataframe thead th {\n",
       "        text-align: right;\n",
       "    }\n",
       "</style>\n",
       "<table border=\"1\" class=\"dataframe\">\n",
       "  <thead>\n",
       "    <tr style=\"text-align: right;\">\n",
       "      <th></th>\n",
       "      <th>area</th>\n",
       "      <th>rentType</th>\n",
       "      <th>houseType</th>\n",
       "      <th>houseFloor</th>\n",
       "      <th>totalFloor</th>\n",
       "      <th>houseToward</th>\n",
       "      <th>houseDecoration</th>\n",
       "      <th>communityName</th>\n",
       "      <th>region</th>\n",
       "      <th>plate</th>\n",
       "      <th>...</th>\n",
       "      <th>totalWorkers</th>\n",
       "      <th>newWorkers</th>\n",
       "      <th>residentPopulation</th>\n",
       "      <th>pv</th>\n",
       "      <th>uv</th>\n",
       "      <th>lookNum</th>\n",
       "      <th>tradeMoney</th>\n",
       "      <th>Type</th>\n",
       "      <th>month</th>\n",
       "      <th>day</th>\n",
       "    </tr>\n",
       "  </thead>\n",
       "  <tbody>\n",
       "    <tr>\n",
       "      <th>0</th>\n",
       "      <td>68.06</td>\n",
       "      <td>2</td>\n",
       "      <td>12</td>\n",
       "      <td>1</td>\n",
       "      <td>16</td>\n",
       "      <td>6</td>\n",
       "      <td>0</td>\n",
       "      <td>50</td>\n",
       "      <td>0</td>\n",
       "      <td>63</td>\n",
       "      <td>...</td>\n",
       "      <td>28248</td>\n",
       "      <td>614</td>\n",
       "      <td>111546</td>\n",
       "      <td>1124</td>\n",
       "      <td>284</td>\n",
       "      <td>0</td>\n",
       "      <td>2000.0</td>\n",
       "      <td>Train</td>\n",
       "      <td>11</td>\n",
       "      <td>28</td>\n",
       "    </tr>\n",
       "    <tr>\n",
       "      <th>1</th>\n",
       "      <td>125.55</td>\n",
       "      <td>2</td>\n",
       "      <td>28</td>\n",
       "      <td>0</td>\n",
       "      <td>14</td>\n",
       "      <td>6</td>\n",
       "      <td>2</td>\n",
       "      <td>129</td>\n",
       "      <td>1</td>\n",
       "      <td>48</td>\n",
       "      <td>...</td>\n",
       "      <td>14823</td>\n",
       "      <td>148</td>\n",
       "      <td>157552</td>\n",
       "      <td>701</td>\n",
       "      <td>22</td>\n",
       "      <td>1</td>\n",
       "      <td>2000.0</td>\n",
       "      <td>Train</td>\n",
       "      <td>12</td>\n",
       "      <td>16</td>\n",
       "    </tr>\n",
       "    <tr>\n",
       "      <th>2</th>\n",
       "      <td>132.00</td>\n",
       "      <td>2</td>\n",
       "      <td>28</td>\n",
       "      <td>1</td>\n",
       "      <td>32</td>\n",
       "      <td>6</td>\n",
       "      <td>0</td>\n",
       "      <td>178</td>\n",
       "      <td>1</td>\n",
       "      <td>49</td>\n",
       "      <td>...</td>\n",
       "      <td>77645</td>\n",
       "      <td>520</td>\n",
       "      <td>131744</td>\n",
       "      <td>57</td>\n",
       "      <td>20</td>\n",
       "      <td>1</td>\n",
       "      <td>16000.0</td>\n",
       "      <td>Train</td>\n",
       "      <td>12</td>\n",
       "      <td>22</td>\n",
       "    </tr>\n",
       "    <tr>\n",
       "      <th>3</th>\n",
       "      <td>57.00</td>\n",
       "      <td>2</td>\n",
       "      <td>4</td>\n",
       "      <td>0</td>\n",
       "      <td>17</td>\n",
       "      <td>6</td>\n",
       "      <td>3</td>\n",
       "      <td>312</td>\n",
       "      <td>1</td>\n",
       "      <td>50</td>\n",
       "      <td>...</td>\n",
       "      <td>8750</td>\n",
       "      <td>1665</td>\n",
       "      <td>253337</td>\n",
       "      <td>888</td>\n",
       "      <td>279</td>\n",
       "      <td>9</td>\n",
       "      <td>1600.0</td>\n",
       "      <td>Train</td>\n",
       "      <td>12</td>\n",
       "      <td>21</td>\n",
       "    </tr>\n",
       "    <tr>\n",
       "      <th>4</th>\n",
       "      <td>129.00</td>\n",
       "      <td>2</td>\n",
       "      <td>29</td>\n",
       "      <td>1</td>\n",
       "      <td>2</td>\n",
       "      <td>6</td>\n",
       "      <td>1</td>\n",
       "      <td>1256</td>\n",
       "      <td>2</td>\n",
       "      <td>43</td>\n",
       "      <td>...</td>\n",
       "      <td>800</td>\n",
       "      <td>117</td>\n",
       "      <td>125309</td>\n",
       "      <td>2038</td>\n",
       "      <td>480</td>\n",
       "      <td>0</td>\n",
       "      <td>2900.0</td>\n",
       "      <td>Train</td>\n",
       "      <td>11</td>\n",
       "      <td>18</td>\n",
       "    </tr>\n",
       "  </tbody>\n",
       "</table>\n",
       "<p>5 rows × 51 columns</p>\n",
       "</div>"
      ],
      "text/plain": [
       "     area  rentType  houseType  houseFloor  totalFloor  houseToward  \\\n",
       "0   68.06         2         12           1          16            6   \n",
       "1  125.55         2         28           0          14            6   \n",
       "2  132.00         2         28           1          32            6   \n",
       "3   57.00         2          4           0          17            6   \n",
       "4  129.00         2         29           1           2            6   \n",
       "\n",
       "   houseDecoration  communityName  region  plate  ...  totalWorkers  \\\n",
       "0                0             50       0     63  ...         28248   \n",
       "1                2            129       1     48  ...         14823   \n",
       "2                0            178       1     49  ...         77645   \n",
       "3                3            312       1     50  ...          8750   \n",
       "4                1           1256       2     43  ...           800   \n",
       "\n",
       "   newWorkers  residentPopulation    pv   uv  lookNum  tradeMoney   Type  \\\n",
       "0         614              111546  1124  284        0      2000.0  Train   \n",
       "1         148              157552   701   22        1      2000.0  Train   \n",
       "2         520              131744    57   20        1     16000.0  Train   \n",
       "3        1665              253337   888  279        9      1600.0  Train   \n",
       "4         117              125309  2038  480        0      2900.0  Train   \n",
       "\n",
       "   month  day  \n",
       "0     11   28  \n",
       "1     12   16  \n",
       "2     12   22  \n",
       "3     12   21  \n",
       "4     11   18  \n",
       "\n",
       "[5 rows x 51 columns]"
      ]
     },
     "execution_count": 32,
     "metadata": {},
     "output_type": "execute_result"
    }
   ],
   "source": [
    "def preprocessingData(data):\n",
    "    # 填充缺失值\n",
    "    # 有两种缺失值：-- 和 未知方式 \n",
    "    # 把 -- 转换为 未知方式 然后使用 labelEncoder 编码\n",
    "    data['rentType'][data['rentType'] == '--'] = '未知方式'\n",
    "    \n",
    "    # 转换object类型数据\n",
    "    columns = ['rentType','communityName','houseType', 'houseFloor', 'houseToward', 'houseDecoration',  'region', 'plate']\n",
    "    \n",
    "    for feature in columns:\n",
    "        le = LabelEncoder()\n",
    "        data[feature] = le.fit_transform(data[feature])\n",
    "        print(le.classes_)\n",
    "\n",
    "    # 将buildYear列转换为整型数据\n",
    "    # 缺失值是 暂无信息\n",
    "    # 取非缺失值，计算buildYear的众数： 1994\n",
    "    # buildYearmean.iloc[0, 0] 是取这个serise的值\n",
    "    buildYearmean = pd.DataFrame(data[data['buildYear'] != '暂无信息']['buildYear'].mode())\n",
    "    # data[data['buildYear'] != '暂无信息']['buildYear'] 这种方式也可以赋值\n",
    "    data.loc[data[data['buildYear'] == '暂无信息'].index, 'buildYear'] = buildYearmean.iloc[0, 0]\n",
    "    # 改变buildYear类型 buildYear最开始是object类型，现在需要转换为int类型\n",
    "    data['buildYear'] = data['buildYear'].astype('int')\n",
    "\n",
    "    # 处理pv和uv的空值\n",
    "    # 使用平均值填充\n",
    "    data['pv'].fillna(data['pv'].mean(), inplace=True)\n",
    "    data['uv'].fillna(data['uv'].mean(), inplace=True)\n",
    "    # pv和uv是float类型，根据实际经验这里转为int类型\n",
    "    data['pv'] = data['pv'].astype('int')\n",
    "    data['uv'] = data['uv'].astype('int')\n",
    "\n",
    "    # 分割交易时间tradeTime\n",
    "    # 没有缺失值，可以直接处理\n",
    "    # 全部是2008年所以不用分割年\n",
    "    # 分割出月和日即可\n",
    "    def month(x):\n",
    "        month = int(x.split('/')[1])\n",
    "        return month\n",
    "    def day(x):\n",
    "        day = int(x.split('/')[2])\n",
    "        return day\n",
    "    data['month'] = data['tradeTime'].apply(lambda x: month(x))\n",
    "    data['day'] = data['tradeTime'].apply(lambda x: day(x))\n",
    "    \n",
    "    # 去掉部分特征\n",
    "    data.drop('city', axis=1, inplace=True)\n",
    "    data.drop('tradeTime', axis=1, inplace=True)\n",
    "    data.drop('ID', axis=1, inplace=True)\n",
    "    return data\n",
    "\n",
    "data = copy.deepcopy(data_train)\n",
    "data = preprocessingData(data)\n",
    "\n",
    "data.head()"
   ]
  },
  {
   "cell_type": "code",
   "execution_count": 39,
   "metadata": {},
   "outputs": [
    {
     "data": {
      "text/plain": [
       "rentType\n",
       "--          5\n",
       "合租       5204\n",
       "整租       5472\n",
       "未知方式    30759\n",
       "Name: rentType, dtype: int64"
      ]
     },
     "execution_count": 39,
     "metadata": {},
     "output_type": "execute_result"
    }
   ],
   "source": [
    "data.groupby(\"rentType\")[\"rentType\"].count()"
   ]
  },
  {
   "cell_type": "code",
   "execution_count": 48,
   "metadata": {
    "scrolled": true
   },
   "outputs": [
    {
     "data": {
      "text/plain": [
       "<matplotlib.axes._subplots.AxesSubplot at 0x129e2ab38>"
      ]
     },
     "execution_count": 48,
     "metadata": {},
     "output_type": "execute_result"
    },
    {
     "data": {
      "image/png": "[encoded data removed]",
      "text/plain": [
       "<Figure size 432x288 with 1 Axes>"
      ]
     },
     "metadata": {
      "needs_background": "light"
     },
     "output_type": "display_data"
    }
   ],
   "source": [
    "data.groupby(\"buildYear\")[\"buildYear\"].count().plot()"
   ]
  },
  {
   "cell_type": "code",
   "execution_count": 47,
   "metadata": {},
   "outputs": [
    {
     "name": "stdout",
     "output_type": "stream",
     "text": [
      "<class 'pandas.core.series.Series'>\n",
      "object\n"
     ]
    },
    {
     "data": {
      "text/plain": [
       "0    1994\n",
       "dtype: object"
      ]
     },
     "execution_count": 47,
     "metadata": {},
     "output_type": "execute_result"
    }
   ],
   "source": [
    "result = data[data['buildYear'] != '暂无信息']['buildYear'].mode()\n",
    "print(type(result))\n",
    "print(result.dtypes)\n",
    "result"
   ]
  },
  {
   "cell_type": "code",
   "execution_count": 60,
   "metadata": {
    "scrolled": true
   },
   "outputs": [
    {
     "data": {
      "text/plain": [
       "2808"
      ]
     },
     "execution_count": 60,
     "metadata": {},
     "output_type": "execute_result"
    }
   ],
   "source": [
    "data.loc[data['buildYear'] == '暂无信息', 'buildYear'].count()"
   ]
  },
  {
   "cell_type": "code",
   "execution_count": 58,
   "metadata": {
    "scrolled": true
   },
   "outputs": [
    {
     "data": {
      "text/plain": [
       "ID                      int64\n",
       "area                  float64\n",
       "rentType               object\n",
       "houseType              object\n",
       "houseFloor             object\n",
       "totalFloor              int64\n",
       "houseToward            object\n",
       "houseDecoration        object\n",
       "communityName          object\n",
       "city                   object\n",
       "region                 object\n",
       "plate                  object\n",
       "buildYear              object\n",
       "saleSecHouseNum         int64\n",
       "subwayStationNum        int64\n",
       "busStationNum           int64\n",
       "interSchoolNum          int64\n",
       "schoolNum               int64\n",
       "privateSchoolNum        int64\n",
       "hospitalNum             int64\n",
       "drugStoreNum            int64\n",
       "gymNum                  int64\n",
       "bankNum                 int64\n",
       "shopNum                 int64\n",
       "parkNum                 int64\n",
       "mallNum                 int64\n",
       "superMarketNum          int64\n",
       "totalTradeMoney         int64\n",
       "totalTradeArea        float64\n",
       "tradeMeanPrice        float64\n",
       "tradeSecNum             int64\n",
       "totalNewTradeMoney      int64\n",
       "totalNewTradeArea       int64\n",
       "tradeNewMeanPrice     float64\n",
       "tradeNewNum             int64\n",
       "remainNewNum            int64\n",
       "supplyNewNum            int64\n",
       "supplyLandNum           int64\n",
       "supplyLandArea        float64\n",
       "tradeLandNum            int64\n",
       "tradeLandArea         float64\n",
       "landTotalPrice          int64\n",
       "landMeanPrice         float64\n",
       "totalWorkers            int64\n",
       "newWorkers              int64\n",
       "residentPopulation      int64\n",
       "pv                    float64\n",
       "uv                    float64\n",
       "lookNum                 int64\n",
       "tradeTime              object\n",
       "tradeMoney            float64\n",
       "Type                   object\n",
       "dtype: object"
      ]
     },
     "execution_count": 58,
     "metadata": {},
     "output_type": "execute_result"
    }
   ],
   "source": [
    "data_train.dtypes"
   ]
  },
  {
   "cell_type": "markdown",
   "metadata": {},
   "source": [
    "# 异常值处理"
   ]
  },
  {
   "cell_type": "markdown",
   "metadata": {},
   "source": [
    "## 主要思路分析\n",
    "这里主要针对area和tradeMoney两个维度处理。  \n",
    "针对tradeMoney，这里采用的是IsolationForest模型自动处理；  \n",
    "针对area hetotalFloor是主观+数据可视化的方式得到的结果。\n",
    "\n",
    "参考资料：  \n",
    "[iForest （Isolation Forest）孤立森林 异常检测 入门篇](https://zhuanlan.zhihu.com/p/25040651)\n"
   ]
  },
  {
   "cell_type": "code",
   "execution_count": 4,
   "metadata": {
    "ExecuteTime": {
     "end_time": "2019-12-24T12:27:52.586579Z",
     "start_time": "2019-12-24T12:27:48.467593Z"
    }
   },
   "outputs": [
    {
     "name": "stderr",
     "output_type": "stream",
     "text": [
      "/Users/nick/.venv/ML-training/lib/python3.6/site-packages/sklearn/ensemble/iforest.py:415: DeprecationWarning: threshold_ attribute is deprecated in 0.20 and will be removed in 0.22.\n",
      "  \" be removed in 0.22.\", DeprecationWarning)\n"
     ]
    },
    {
     "name": "stdout",
     "output_type": "stream",
     "text": [
      "Int64Index([   62,    69,   128,   131,   246,   261,   266,   297,   308,\n",
      "              313,\n",
      "            ...\n",
      "            39224, 39228, 39319, 39347, 39352, 39434, 39563, 41080, 41083,\n",
      "            41233],\n",
      "           dtype='int64', length=403)\n"
     ]
    }
   ],
   "source": [
    "# clean data\n",
    "def IF_drop(train):\n",
    "    # 孤立森林模型\n",
    "    IForest = IsolationForest(contamination=0.01)\n",
    "    IForest.fit(train[\"tradeMoney\"].values.reshape(-1,1))\n",
    "    y_pred = IForest.predict(train[\"tradeMoney\"].values.reshape(-1,1))\n",
    "    drop_index = train.loc[y_pred==-1].index\n",
    "    print(drop_index)\n",
    "    train.drop(drop_index,inplace=True)\n",
    "    return train\n",
    "\n",
    "data_train = IF_drop(data_train)"
   ]
  },
  {
   "cell_type": "code",
   "execution_count": 5,
   "metadata": {
    "ExecuteTime": {
     "end_time": "2019-12-24T12:27:52.674346Z",
     "start_time": "2019-12-24T12:27:52.589572Z"
    }
   },
   "outputs": [],
   "source": [
    "def dropData(train):\n",
    "    # 丢弃部分异常值\n",
    "    train = train[train.area <= 200]\n",
    "    train = train[(train.tradeMoney <=16000) & (train.tradeMoney >=700)]\n",
    "    train.drop(train[(train['totalFloor'] == 0)].index, inplace=True)\n",
    "    return train  \n",
    "#数据集异常值处理\n",
    "data_train = dropData(data_train)"
   ]
  },
  {
   "cell_type": "code",
   "execution_count": 6,
   "metadata": {
    "ExecuteTime": {
     "end_time": "2019-12-24T12:27:53.089272Z",
     "start_time": "2019-12-24T12:27:52.678334Z"
    }
   },
   "outputs": [
    {
     "data": {
      "image/png": "[encoded data removed]",
      "text/plain": [
       "<Figure size 1080x360 with 1 Axes>"
      ]
     },
     "metadata": {
      "needs_background": "light"
     },
     "output_type": "display_data"
    },
    {
     "data": {
      "image/png": "[encoded data removed]",
      "text/plain": [
       "<Figure size 1080x360 with 1 Axes>"
      ]
     },
     "metadata": {
      "needs_background": "light"
     },
     "output_type": "display_data"
    }
   ],
   "source": [
    "# 处理异常值后再次查看面积和租金分布图\n",
    "plt.figure(figsize=(15,5))\n",
    "sns.boxplot(data_train.area)\n",
    "plt.show()\n",
    "plt.figure(figsize=(15,5))\n",
    "sns.boxplot(data_train.tradeMoney),\n",
    "plt.show()"
   ]
  },
  {
   "cell_type": "markdown",
   "metadata": {},
   "source": [
    "# 深度清洗"
   ]
  },
  {
   "cell_type": "markdown",
   "metadata": {},
   "source": [
    "## 主要思路分析\n",
    "针对每一个region的数据，对area和tradeMoney两个维度进行深度清洗。 \n",
    "采用主观+数据可视化的方式。"
   ]
  },
  {
   "cell_type": "code",
   "execution_count": 7,
   "metadata": {
    "ExecuteTime": {
     "end_time": "2019-12-24T12:28:26.188690Z",
     "start_time": "2019-12-24T12:28:25.073675Z"
    }
   },
   "outputs": [],
   "source": [
    "def cleanData(data):\n",
    "    data.drop(data[(data['region']=='RG00001') & (data['tradeMoney']<1000)&(data['area']>50)].index,inplace=True)\n",
    "    data.drop(data[(data['region']=='RG00001') & (data['tradeMoney']>25000)].index,inplace=True)\n",
    "    data.drop(data[(data['region']=='RG00001') & (data['area']>250)&(data['tradeMoney']<20000)].index,inplace=True)\n",
    "    data.drop(data[(data['region']=='RG00001') & (data['area']>400)&(data['tradeMoney']>50000)].index,inplace=True)\n",
    "    data.drop(data[(data['region']=='RG00001') & (data['area']>100)&(data['tradeMoney']<2000)].index,inplace=True)\n",
    "    data.drop(data[(data['region']=='RG00002') & (data['area']<100)&(data['tradeMoney']>60000)].index,inplace=True)\n",
    "    data.drop(data[(data['region']=='RG00003') & (data['area']<300)&(data['tradeMoney']>30000)].index,inplace=True)\n",
    "    data.drop(data[(data['region']=='RG00003') & (data['tradeMoney']<500)&(data['area']<50)].index,inplace=True)\n",
    "    data.drop(data[(data['region']=='RG00003') & (data['tradeMoney']<1500)&(data['area']>100)].index,inplace=True)\n",
    "    data.drop(data[(data['region']=='RG00003') & (data['tradeMoney']<2000)&(data['area']>300)].index,inplace=True)\n",
    "    data.drop(data[(data['region']=='RG00003') & (data['tradeMoney']>5000)&(data['area']<20)].index,inplace=True)\n",
    "    data.drop(data[(data['region']=='RG00003') & (data['area']>600)&(data['tradeMoney']>40000)].index,inplace=True)\n",
    "    data.drop(data[(data['region']=='RG00004') & (data['tradeMoney']<1000)&(data['area']>80)].index,inplace=True)\n",
    "    data.drop(data[(data['region']=='RG00006') & (data['tradeMoney']<200)].index,inplace=True)\n",
    "    data.drop(data[(data['region']=='RG00005') & (data['tradeMoney']<2000)&(data['area']>180)].index,inplace=True)\n",
    "    data.drop(data[(data['region']=='RG00005') & (data['tradeMoney']>50000)&(data['area']<200)].index,inplace=True)\n",
    "    data.drop(data[(data['region']=='RG00006') & (data['area']>200)&(data['tradeMoney']<2000)].index,inplace=True)\n",
    "    data.drop(data[(data['region']=='RG00007') & (data['area']>100)&(data['tradeMoney']<2500)].index,inplace=True)\n",
    "    data.drop(data[(data['region']=='RG00010') & (data['area']>200)&(data['tradeMoney']>25000)].index,inplace=True)\n",
    "    data.drop(data[(data['region']=='RG00010') & (data['area']>400)&(data['tradeMoney']<15000)].index,inplace=True)\n",
    "    data.drop(data[(data['region']=='RG00010') & (data['tradeMoney']<3000)&(data['area']>200)].index,inplace=True)\n",
    "    data.drop(data[(data['region']=='RG00010') & (data['tradeMoney']>7000)&(data['area']<75)].index,inplace=True)\n",
    "    data.drop(data[(data['region']=='RG00010') & (data['tradeMoney']>12500)&(data['area']<100)].index,inplace=True)\n",
    "    data.drop(data[(data['region']=='RG00004') & (data['area']>400)&(data['tradeMoney']>20000)].index,inplace=True)\n",
    "    data.drop(data[(data['region']=='RG00008') & (data['tradeMoney']<2000)&(data['area']>80)].index,inplace=True)\n",
    "    data.drop(data[(data['region']=='RG00009') & (data['tradeMoney']>40000)].index,inplace=True)\n",
    "    data.drop(data[(data['region']=='RG00009') & (data['area']>300)].index,inplace=True)\n",
    "    data.drop(data[(data['region']=='RG00009') & (data['area']>100)&(data['tradeMoney']<2000)].index,inplace=True)\n",
    "    data.drop(data[(data['region']=='RG00011') & (data['tradeMoney']<10000)&(data['area']>390)].index,inplace=True)\n",
    "    data.drop(data[(data['region']=='RG00012') & (data['area']>120)&(data['tradeMoney']<5000)].index,inplace=True)\n",
    "    data.drop(data[(data['region']=='RG00013') & (data['area']<100)&(data['tradeMoney']>40000)].index,inplace=True)\n",
    "    data.drop(data[(data['region']=='RG00013') & (data['area']>400)&(data['tradeMoney']>50000)].index,inplace=True)\n",
    "    data.drop(data[(data['region']=='RG00013') & (data['area']>80)&(data['tradeMoney']<2000)].index,inplace=True)\n",
    "    data.drop(data[(data['region']=='RG00014') & (data['area']>300)&(data['tradeMoney']>40000)].index,inplace=True)\n",
    "    data.drop(data[(data['region']=='RG00014') & (data['tradeMoney']<1300)&(data['area']>80)].index,inplace=True)\n",
    "    data.drop(data[(data['region']=='RG00014') & (data['tradeMoney']<8000)&(data['area']>200)].index,inplace=True)\n",
    "    data.drop(data[(data['region']=='RG00014') & (data['tradeMoney']<1000)&(data['area']>20)].index,inplace=True)\n",
    "    data.drop(data[(data['region']=='RG00014') & (data['tradeMoney']>25000)&(data['area']>200)].index,inplace=True)\n",
    "    data.drop(data[(data['region']=='RG00014') & (data['tradeMoney']<20000)&(data['area']>250)].index,inplace=True)\n",
    "    data.drop(data[(data['region']=='RG00005') & (data['tradeMoney']>30000)&(data['area']<100)].index,inplace=True)\n",
    "    data.drop(data[(data['region']=='RG00005') & (data['tradeMoney']<50000)&(data['area']>600)].index,inplace=True)\n",
    "    data.drop(data[(data['region']=='RG00005') & (data['tradeMoney']>50000)&(data['area']>350)].index,inplace=True)\n",
    "    data.drop(data[(data['region']=='RG00006') & (data['tradeMoney']>4000)&(data['area']<100)].index,inplace=True)\n",
    "    data.drop(data[(data['region']=='RG00006') & (data['tradeMoney']<600)&(data['area']>100)].index,inplace=True)\n",
    "    data.drop(data[(data['region']=='RG00006') & (data['area']>165)].index,inplace=True)\n",
    "    data.drop(data[(data['region']=='RG00012') & (data['tradeMoney']<800)&(data['area']<30)].index,inplace=True)\n",
    "    data.drop(data[(data['region']=='RG00007') & (data['tradeMoney']<1100)&(data['area']>50)].index,inplace=True)\n",
    "    data.drop(data[(data['region']=='RG00004') & (data['tradeMoney']>8000)&(data['area']<80)].index,inplace=True)\n",
    "    data.loc[(data['region']=='RG00002')&(data['area']>50)&(data['rentType']=='合租'),'rentType']='整租'\n",
    "    data.loc[(data['region']=='RG00014')&(data['rentType']=='合租')&(data['area']>60),'rentType']='整租'\n",
    "    data.drop(data[(data['region']=='RG00008')&(data['tradeMoney']>15000)&(data['area']<110)].index,inplace=True)\n",
    "    data.drop(data[(data['region']=='RG00008')&(data['tradeMoney']>20000)&(data['area']>110)].index,inplace=True)\n",
    "    data.drop(data[(data['region']=='RG00008')&(data['tradeMoney']<1500)&(data['area']<50)].index,inplace=True)\n",
    "    data.drop(data[(data['region']=='RG00008')&(data['rentType']=='合租')&(data['area']>50)].index,inplace=True)\n",
    "    data.drop(data[(data['region']=='RG00015') ].index,inplace=True)\n",
    "    data.reset_index(drop=True, inplace=True)\n",
    "    return data\n",
    "\n",
    "data_train = cleanData(data_train)"
   ]
  }
 ],
 "metadata": {
  "kernelspec": {
   "display_name": "Python 3",
   "language": "python",
   "name": "python3"
  },
  "language_info": {
   "codemirror_mode": {
    "name": "ipython",
    "version": 3
   },
   "file_extension": ".py",
   "mimetype": "text/x-python",
   "name": "python",
   "nbconvert_exporter": "python",
   "pygments_lexer": "ipython3",
   "version": "3.6.5"
  },
  "toc": {
   "base_numbering": 1,
   "nav_menu": {},
   "number_sections": true,
   "sideBar": true,
   "skip_h1_title": false,
   "title_cell": "Table of Contents",
   "title_sidebar": "Contents",
   "toc_cell": false,
   "toc_position": {
    "height": "calc(100% - 180px)",
    "left": "10px",
    "top": "150px",
    "width": "307.2px"
   },
   "toc_section_display": true,
   "toc_window_display": true
  }
 },
 "nbformat": 4,
 "nbformat_minor": 2
}
