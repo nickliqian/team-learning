{
 "cells": [
  {
   "cell_type": "markdown",
   "metadata": {},
   "source": [
    "# 任务6 比赛整理(2天)\n",
    "\n",
    "以赛方最后给的答辩模板为主线整理比赛思路，模拟比赛答辩环节，进行比赛整理。\n",
    "\n",
    "## Part1\n",
    "\n",
    "**参赛队成员简介**\n",
    "\n",
    " （这边主要介绍成员情况，如果有竞赛获奖就最好啦）\n",
    "\n",
    "ps：这个由于是模拟比赛所以这个部分可以不写哦\n",
    "\n",
    "## Part2\n",
    "\n",
    "**参赛作品概述**\n",
    "\n",
    "## Part3\n",
    "\n",
    "**关键技术阐述（数据清洗、特征工程、模型、模型融合，并强调对比赛提分最有帮助的部分）**\n",
    "\n",
    "## Part4\n",
    "\n",
    "**探索与创新（写明做的与众不同的创新点）**\n",
    "\n",
    "## Part5\n",
    "\n",
    "**实施与优化过程（在过程中尝试过的方法都可以提及并总结）**\n",
    "\n",
    "## Part6\n",
    "\n",
    "**其他（有其他需要补充的可以写在这个部分）**\n",
    "\n",
    "\n",
    "\n",
    "**（注：因为比赛是和企业合作，并具有实际意义的比赛，所以强调你的代码模型的实际意义，商业价值都会在答辩环节有帮助哦）**\n",
    "\n",
    "\n",
    "\n",
    "\n",
    "\n",
    "**任务时间 2天**\n"
   ]
  },
  {
   "cell_type": "markdown",
   "metadata": {
    "ExecuteTime": {
     "end_time": "2019-12-24T12:40:43.526848Z",
     "start_time": "2019-12-24T12:40:43.515876Z"
    }
   },
   "source": [
    "**参考连接：**\n",
    "[https://blog.csdn.net/qq_39756719/article/details/95634744](https://blog.csdn.net/qq_39756719/article/details/95634744)"
   ]
  },
  {
   "cell_type": "markdown",
   "metadata": {},
   "source": [
    "===================================================="
   ]
  },
  {
   "cell_type": "markdown",
   "metadata": {},
   "source": [
    "# 0 概况\n",
    "本文整理城市-房产租金预测比赛的思路。  \n",
    "比赛官方链接是[城市-房产租金预测竞赛](https://2019ai.futurelab.tv/contest_detail/3#contest_des)，要求参赛选手根据给定的数据集，建立模型，预测房屋租金。  \n",
    "数据字段，评分标准参见官网。  "
   ]
  },
  {
   "cell_type": "markdown",
   "metadata": {},
   "source": [
    "# 1 参赛成员简介"
   ]
  },
  {
   "cell_type": "markdown",
   "metadata": {},
   "source": [
    "# 2 参赛作品简介"
   ]
  },
  {
   "cell_type": "markdown",
   "metadata": {},
   "source": [
    "- 对比赛数据做EDA，分析样本特征的分布和缺失情形，分析样本字段的相关度。\n",
    "- 数据清洗分别处理缺失值、异常值、对字符类型数据编码和深度清洗面积价格字段。\n",
    "- 特征工程构造大量统计特征、合并和拆分部分特征，使用多种算法进行特征选择。\n",
    "- 搜索lgbm算法的最优参数。\n",
    "- 多次预测并加入为特征；使用多种模型加权融合。"
   ]
  },
  {
   "cell_type": "markdown",
   "metadata": {},
   "source": [
    "# 3 关键技术阐述"
   ]
  },
  {
   "cell_type": "markdown",
   "metadata": {},
   "source": [
    "## 3.1 数据清洗\n",
    "1. buildYear缺失值填充\n",
    "2. pv和uv平均值填充\n",
    "3. tradeTime分割月和日\n",
    "4. 针对租金字段，使用孤立森林检测和删除异常值（可加上四分位异常值检测和高斯异常值检测）\n",
    "5. 对area和tradeMoney两个维度进行深度清洗"
   ]
  },
  {
   "cell_type": "markdown",
   "metadata": {},
   "source": [
    "## 3.2 特征工程 \n",
    "1. 将室、厅、卫三个字段拆卫三个字段\n",
    "2. 根据面积和房间数量填充租房方式\n",
    "3. 将成交日期拆分为月份字段\n",
    "4. 合并配套设施特征，比如交通、学校、医疗、商场等\n",
    "5. 部分字段统计指定特征值在在所有数据中有多少条\n",
    "6. 为连续型变量构造平均值、标准差等统计特征\n",
    "7. 使用聚类方法构造新列\n",
    "8. 使用log平滑处理连续特征\n",
    "9. 根据相关系数法、Wrapper、Lasso、Ridge和随机森林算法进行特征选择"
   ]
  },
  {
   "cell_type": "markdown",
   "metadata": {},
   "source": [
    "## 3.3 模型选择\n",
    "- 使用xgboost和lgbm算法分别训练\n",
    "- 选择lgbm算法，并使用hyperopt搜索其最佳参数"
   ]
  },
  {
   "cell_type": "markdown",
   "metadata": {},
   "source": [
    "## 3.4 模型融合\n",
    "1. 反复预测多轮多次并将结果放在特征列中\n",
    "2. 将每轮的预测结果加权融合作为预测结果\n",
    "3. 使用多种算法进行集成学习"
   ]
  },
  {
   "cell_type": "markdown",
   "metadata": {},
   "source": [
    "# 4 探索与创新"
   ]
  },
  {
   "cell_type": "markdown",
   "metadata": {},
   "source": [
    "1. 对area和tradeMoney两个维度进行人工干预的深度清洗 \n",
    "2. 使用聚类结果构造新特征\n",
    "3. 使用多种异常值检测方式处理数据集"
   ]
  },
  {
   "cell_type": "markdown",
   "metadata": {},
   "source": [
    "# 5 实施与优化过程"
   ]
  },
  {
   "cell_type": "markdown",
   "metadata": {},
   "source": [
    "# 6 补充"
   ]
  },
  {
   "cell_type": "code",
   "execution_count": null,
   "metadata": {},
   "outputs": [],
   "source": []
  }
 ],
 "metadata": {
  "kernelspec": {
   "display_name": "Python 3",
   "language": "python",
   "name": "python3"
  },
  "language_info": {
   "codemirror_mode": {
    "name": "ipython",
    "version": 3
   },
   "file_extension": ".py",
   "mimetype": "text/x-python",
   "name": "python",
   "nbconvert_exporter": "python",
   "pygments_lexer": "ipython3",
   "version": "3.6.5"
  },
  "toc": {
   "base_numbering": 1,
   "nav_menu": {},
   "number_sections": true,
   "sideBar": true,
   "skip_h1_title": false,
   "title_cell": "Table of Contents",
   "title_sidebar": "Contents",
   "toc_cell": false,
   "toc_position": {},
   "toc_section_display": true,
   "toc_window_display": true
  }
 },
 "nbformat": 4,
 "nbformat_minor": 2
}
