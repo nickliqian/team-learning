{
 "cells": [
  {
   "cell_type": "markdown",
   "metadata": {},
   "source": [
    "# 任务1 赛题分析(2天)\n",
    "每一步都要认真完成，附上代码，最终效果截图\n",
    "\n",
    "## 认识数据([赛题说明](https://2019ai.futurelab.tv/contest_detail/3#contest_des))\n",
    "* 了解比赛的背景\n",
    "* 分类问题还是回归问题\n",
    "* 熟悉比赛的评分函数\n",
    "  \n",
    "## 对比赛数据做EDA\n",
    "* 数据分析\n",
    "    * 缺失值分析\n",
    "    * 特征值分析\n",
    "    * 是否有单调特征列(单调的特征列很大可能是时间)\n",
    "    * 特征nunique分布\n",
    "    * 出现在测试集中的community，但是在训练集中数量较少\n",
    "    * 统计特征值出现频次大于100的特征\n",
    "    * Label分布\n",
    "    * 不同的特征值的样本的label的分布\n"
   ]
  },
  {
   "cell_type": "markdown",
   "metadata": {
    "id": "624CF51534074BF68805A8839EE29746",
    "mdEditEnable": false,
    "slideshow": {
     "slide_type": "slide"
    },
    "tags": []
   },
   "source": [
    "# 赛题分析\n",
    "比赛要求参赛选手根据给定的数据集，建立模型，预测房屋租金。  \n",
    "数据集中的数据类别包括租赁房源、小区、二手房、配套、新房、土地、人口、客户、真实租金等。  \n",
    "这是典型的回归预测。  \n",
    "  \n",
    "## 1. 预测指标\n",
    "#### 回归结果评价标准采用R-Square\n",
    "**R2（R-Square）的公式为**：\n",
    "残差平方和：\n",
    "$$\n",
    "SS_{res}=\\sum\\left(y_{i}-\\hat{y}_{i}\\right)^{2}\n",
    "$$\n",
    "总平均值:\n",
    "$$\n",
    "SS_{tot}=\\sum\\left(y_{i}-\\overline{y}_{i}\\right)^{2}\n",
    "$$\n",
    "\n",
    "其中$\\overline{y}$表示$y$的平均值\n",
    "得到$R^2$表达式为：\n",
    "$$\n",
    "R^{2}=1-\\frac{SS_{res}}{SS_{tot}}=1-\\frac{\\sum\\left(y_{i}-\\hat{y}_{i}\\right)^{2}}{\\sum\\left(y_{i}-\\overline{y}\\right)^{2}}\n",
    "$$\n",
    "$R^2$用于度量因变量的变异中可由自变量解释部分所占的比例，取值范围是 0~1，$R^2$越接近1,表明回归平方和占总平方和的比例越大,回归线与各观测点越接近，用x的变化来解释y值变化的部分就越多,回归的拟合程度就越好。所以$R^2$也称为拟合优度（Goodness of Fit）的统计量。\n",
    "\n",
    "$y_{i}$表示真实值，$\\hat{y}_{i}$表示预测值，$\\overline{y}_{i}$表示样本均值。得分越高拟合效果越好。\n",
    "  \n",
    "  \n",
    "## 2. 数据概况\n",
    "\n",
    "**1.租赁基本信息：**\n",
    "* ID——房屋编号　　　　　　　　　　　　　　　　　　\n",
    "* area——房屋面积 　　　\n",
    "* rentType——出租方式：整租/合租/未知　\n",
    "* houseType——房型 　　　　　　　　　\n",
    "* houseFloor——房间所在楼层：高/中/低　　　　　\n",
    "* totalFloor——房间所在的总楼层数　　　　　　　　\n",
    "* houseToward——房间朝向　　　　　　　　　　　\n",
    "* houseDecoration——房屋装修　\n",
    "\n",
    "* tradeTime——成交日期　　　　　　　　　　　　　　　\n",
    "* tradeMoney——成交租金　\n",
    "\n",
    "**2.小区信息：**\n",
    "* CommunityName——小区名称　　　　　　　　\n",
    "* city——城市　　　　　　　　　　　　　　　　　\n",
    "* region——地区　　　　　　　　　　　　　　　\n",
    "* plate——区域板块　　　　　　　　　　　　　　\n",
    "* buildYear——小区建筑年代　　　　　　　　　　\n",
    "* saleSecHouseNum——该板块当月二手房挂牌房源数　　　\n",
    "\n",
    "**3.配套设施：**\n",
    "* subwayStationNum——该板块地铁站数量　　　　　　　\n",
    "* busStationNum——该板块公交站数量　　　　　　　　　\n",
    "* interSchoolNum——该板块国际学校的数量　　　　　　\n",
    "* schoolNum——该板块公立学校的数量　　　　　　　　\n",
    "* privateSchoolNum——该板块私立学校数量　　　　　\n",
    "* hospitalNum——该板块综合医院数量　　　　　　　　　\n",
    "* DrugStoreNum——该板块药房数量　　　　　　　　\n",
    "* gymNum——该板块健身中心数量　　　　　　　　　　\n",
    "* bankNum——该板块银行数量　　　　　　　　　　　\n",
    "* shopNum——该板块商店数量　　　　　　　　　　　\n",
    "* parkNum——该板块公园数量　　　　　　　　　　　\n",
    "* mallNum——该板块购物中心数量　　　　　　　　　\n",
    "* superMarketNum——该板块超市数量　　　　　　　\n",
    "\n",
    "**4.其他信息：**\n",
    "* totalTradeMoney——该板块当月二手房成交总金额　　　\n",
    "* totalTradeArea——该板块二手房成交总面积　　　　　　\n",
    "* tradeMeanPrice——该板块二手房成交均价　　　　　　　\n",
    "* tradeSecNum——该板块当月二手房成交套数　　　　　\n",
    "\n",
    "* totalNewTradeMoney——该板块当月新房成交总金额　　　\n",
    "* totalNewTradeArea——该板块当月新房成交的总面积　　　\n",
    "* totalNewMeanPrice——该板块当月新房成交均价　　　　　\n",
    "* tradeNewNum——该板块当月新房成交套数　　　　　　　　\n",
    "* remainNewNum——该板块当月新房未成交套数　　　　　　\n",
    "* supplyNewNum——该板块当月新房供应套数　　　　　　　\n",
    "\n",
    "* supplyLandNum——该板块当月土地供应幅数　　　　　 \n",
    "* supplyLandArea——该板块当月土地供应面积　　　　　\n",
    "* tradeLandNum——该板块当月土地成交幅数　　　　　　\n",
    "* tradeLandArea——该板块当月土地成交面积　　　　　 \n",
    "* landTotalPrice——该板块当月土地成交总价　　　　　\n",
    "* landMeanPrice——该板块当月楼板价(元/m^{2})　　　\n",
    "\n",
    "* totalWorkers——当前板块现有的办公人数　　　　　　　\n",
    "* newWorkers——该板块当月流入人口数（现招聘的人员）　\n",
    "* residentPopulation——该板块常住人口　　　　　　　　\n",
    "\n",
    "* pv——该板块当月租客浏览网页次数　　　　　　　　　　　\n",
    "* uv——该板块当月租客浏览网页总人数　　　　　　　　　　\n",
    "* lookNum——线下看房次数　　　　　　　　　　　　　　　\n",
    "　　　　\n"
   ]
  },
  {
   "cell_type": "code",
   "execution_count": 86,
   "metadata": {
    "ExecuteTime": {
     "end_time": "2019-12-24T14:06:14.700476Z",
     "start_time": "2019-12-24T14:06:14.489029Z"
    },
    "id": "EDF9B091264C42AF8FD7A283FCBAEFBA",
    "jupyter": {
     "outputs_hidden": false
    },
    "mdEditEnable": false,
    "slideshow": {
     "slide_type": "slide"
    },
    "tags": []
   },
   "outputs": [],
   "source": [
    "#coding:utf-8\n",
    "#导入warnings包，利用过滤器来实现忽略警告语句。\n",
    "import warnings\n",
    "warnings.filterwarnings('ignore')\n",
    "\n",
    "# GBDT\n",
    "from sklearn.ensemble import GradientBoostingRegressor\n",
    "# XGBoost\n",
    "import xgboost as xgb\n",
    "# LightGBM\n",
    "import lightgbm as lgb\n",
    "\n",
    "import pandas as pd\n",
    "import numpy as np\n",
    "import matplotlib.pyplot as plt\n",
    "import seaborn as sns\n",
    "\n",
    "import matplotlib\n",
    "#指定默认字体\n",
    "matplotlib.rcParams['font.sans-serif'] = ['SimHei']\n",
    "matplotlib.rcParams['font.family']='sans-serif'\n",
    "#解决负号'-'显示为方块的问题\n",
    "matplotlib.rcParams['axes.unicode_minus'] = False"
   ]
  },
  {
   "cell_type": "code",
   "execution_count": 4,
   "metadata": {
    "ExecuteTime": {
     "end_time": "2019-12-24T14:04:51.300490Z",
     "start_time": "2019-12-24T14:04:50.791850Z"
    }
   },
   "outputs": [],
   "source": [
    "#载入数据\n",
    "data_train = pd.read_csv('数据集/train_data.csv')\n",
    "data_train['Type'] = 'Train'\n",
    "data_test = pd.read_csv('数据集/test_a.csv')\n",
    "data_test['Type'] = 'Test'\n",
    "data_all = pd.concat([data_train, data_test], ignore_index=True)"
   ]
  },
  {
   "cell_type": "markdown",
   "metadata": {},
   "source": [
    "## 3. 总体情况一览"
   ]
  },
  {
   "cell_type": "code",
   "execution_count": 8,
   "metadata": {
    "ExecuteTime": {
     "end_time": "2019-12-24T14:07:26.382770Z",
     "start_time": "2019-12-24T14:07:26.116478Z"
    },
    "scrolled": true
   },
   "outputs": [
    {
     "name": "stdout",
     "output_type": "stream",
     "text": [
      "(41440, 52)\n"
     ]
    },
    {
     "data": {
      "text/html": [
       "<div>\n",
       "<style scoped>\n",
       "    .dataframe tbody tr th:only-of-type {\n",
       "        vertical-align: middle;\n",
       "    }\n",
       "\n",
       "    .dataframe tbody tr th {\n",
       "        vertical-align: top;\n",
       "    }\n",
       "\n",
       "    .dataframe thead th {\n",
       "        text-align: right;\n",
       "    }\n",
       "</style>\n",
       "<table border=\"1\" class=\"dataframe\">\n",
       "  <thead>\n",
       "    <tr style=\"text-align: right;\">\n",
       "      <th></th>\n",
       "      <th>ID</th>\n",
       "      <th>area</th>\n",
       "      <th>rentType</th>\n",
       "      <th>houseType</th>\n",
       "      <th>houseFloor</th>\n",
       "      <th>totalFloor</th>\n",
       "      <th>houseToward</th>\n",
       "      <th>houseDecoration</th>\n",
       "      <th>communityName</th>\n",
       "      <th>city</th>\n",
       "      <th>...</th>\n",
       "      <th>landMeanPrice</th>\n",
       "      <th>totalWorkers</th>\n",
       "      <th>newWorkers</th>\n",
       "      <th>residentPopulation</th>\n",
       "      <th>pv</th>\n",
       "      <th>uv</th>\n",
       "      <th>lookNum</th>\n",
       "      <th>tradeTime</th>\n",
       "      <th>tradeMoney</th>\n",
       "      <th>Type</th>\n",
       "    </tr>\n",
       "  </thead>\n",
       "  <tbody>\n",
       "    <tr>\n",
       "      <th>0</th>\n",
       "      <td>100309852</td>\n",
       "      <td>68.06</td>\n",
       "      <td>未知方式</td>\n",
       "      <td>2室1厅1卫</td>\n",
       "      <td>低</td>\n",
       "      <td>16</td>\n",
       "      <td>暂无数据</td>\n",
       "      <td>其他</td>\n",
       "      <td>XQ00051</td>\n",
       "      <td>SH</td>\n",
       "      <td>...</td>\n",
       "      <td>0.0000</td>\n",
       "      <td>28248</td>\n",
       "      <td>614</td>\n",
       "      <td>111546</td>\n",
       "      <td>1124.0</td>\n",
       "      <td>284.0</td>\n",
       "      <td>0</td>\n",
       "      <td>2018/11/28</td>\n",
       "      <td>2000.0</td>\n",
       "      <td>Train</td>\n",
       "    </tr>\n",
       "    <tr>\n",
       "      <th>1</th>\n",
       "      <td>100307942</td>\n",
       "      <td>125.55</td>\n",
       "      <td>未知方式</td>\n",
       "      <td>3室2厅2卫</td>\n",
       "      <td>中</td>\n",
       "      <td>14</td>\n",
       "      <td>暂无数据</td>\n",
       "      <td>简装</td>\n",
       "      <td>XQ00130</td>\n",
       "      <td>SH</td>\n",
       "      <td>...</td>\n",
       "      <td>0.0000</td>\n",
       "      <td>14823</td>\n",
       "      <td>148</td>\n",
       "      <td>157552</td>\n",
       "      <td>701.0</td>\n",
       "      <td>22.0</td>\n",
       "      <td>1</td>\n",
       "      <td>2018/12/16</td>\n",
       "      <td>2000.0</td>\n",
       "      <td>Train</td>\n",
       "    </tr>\n",
       "    <tr>\n",
       "      <th>2</th>\n",
       "      <td>100307764</td>\n",
       "      <td>132.00</td>\n",
       "      <td>未知方式</td>\n",
       "      <td>3室2厅2卫</td>\n",
       "      <td>低</td>\n",
       "      <td>32</td>\n",
       "      <td>暂无数据</td>\n",
       "      <td>其他</td>\n",
       "      <td>XQ00179</td>\n",
       "      <td>SH</td>\n",
       "      <td>...</td>\n",
       "      <td>0.0000</td>\n",
       "      <td>77645</td>\n",
       "      <td>520</td>\n",
       "      <td>131744</td>\n",
       "      <td>57.0</td>\n",
       "      <td>20.0</td>\n",
       "      <td>1</td>\n",
       "      <td>2018/12/22</td>\n",
       "      <td>16000.0</td>\n",
       "      <td>Train</td>\n",
       "    </tr>\n",
       "    <tr>\n",
       "      <th>3</th>\n",
       "      <td>100306518</td>\n",
       "      <td>57.00</td>\n",
       "      <td>未知方式</td>\n",
       "      <td>1室1厅1卫</td>\n",
       "      <td>中</td>\n",
       "      <td>17</td>\n",
       "      <td>暂无数据</td>\n",
       "      <td>精装</td>\n",
       "      <td>XQ00313</td>\n",
       "      <td>SH</td>\n",
       "      <td>...</td>\n",
       "      <td>3080.0331</td>\n",
       "      <td>8750</td>\n",
       "      <td>1665</td>\n",
       "      <td>253337</td>\n",
       "      <td>888.0</td>\n",
       "      <td>279.0</td>\n",
       "      <td>9</td>\n",
       "      <td>2018/12/21</td>\n",
       "      <td>1600.0</td>\n",
       "      <td>Train</td>\n",
       "    </tr>\n",
       "    <tr>\n",
       "      <th>4</th>\n",
       "      <td>100305262</td>\n",
       "      <td>129.00</td>\n",
       "      <td>未知方式</td>\n",
       "      <td>3室2厅3卫</td>\n",
       "      <td>低</td>\n",
       "      <td>2</td>\n",
       "      <td>暂无数据</td>\n",
       "      <td>毛坯</td>\n",
       "      <td>XQ01257</td>\n",
       "      <td>SH</td>\n",
       "      <td>...</td>\n",
       "      <td>0.0000</td>\n",
       "      <td>800</td>\n",
       "      <td>117</td>\n",
       "      <td>125309</td>\n",
       "      <td>2038.0</td>\n",
       "      <td>480.0</td>\n",
       "      <td>0</td>\n",
       "      <td>2018/11/18</td>\n",
       "      <td>2900.0</td>\n",
       "      <td>Train</td>\n",
       "    </tr>\n",
       "  </tbody>\n",
       "</table>\n",
       "<p>5 rows × 52 columns</p>\n",
       "</div>"
      ],
      "text/plain": [
       "          ID    area rentType houseType houseFloor  totalFloor houseToward  \\\n",
       "0  100309852   68.06     未知方式    2室1厅1卫          低          16        暂无数据   \n",
       "1  100307942  125.55     未知方式    3室2厅2卫          中          14        暂无数据   \n",
       "2  100307764  132.00     未知方式    3室2厅2卫          低          32        暂无数据   \n",
       "3  100306518   57.00     未知方式    1室1厅1卫          中          17        暂无数据   \n",
       "4  100305262  129.00     未知方式    3室2厅3卫          低           2        暂无数据   \n",
       "\n",
       "  houseDecoration communityName city  ... landMeanPrice totalWorkers  \\\n",
       "0              其他       XQ00051   SH  ...        0.0000        28248   \n",
       "1              简装       XQ00130   SH  ...        0.0000        14823   \n",
       "2              其他       XQ00179   SH  ...        0.0000        77645   \n",
       "3              精装       XQ00313   SH  ...     3080.0331         8750   \n",
       "4              毛坯       XQ01257   SH  ...        0.0000          800   \n",
       "\n",
       "  newWorkers  residentPopulation      pv     uv  lookNum   tradeTime  \\\n",
       "0        614              111546  1124.0  284.0        0  2018/11/28   \n",
       "1        148              157552   701.0   22.0        1  2018/12/16   \n",
       "2        520              131744    57.0   20.0        1  2018/12/22   \n",
       "3       1665              253337   888.0  279.0        9  2018/12/21   \n",
       "4        117              125309  2038.0  480.0        0  2018/11/18   \n",
       "\n",
       "   tradeMoney   Type  \n",
       "0      2000.0  Train  \n",
       "1      2000.0  Train  \n",
       "2     16000.0  Train  \n",
       "3      1600.0  Train  \n",
       "4      2900.0  Train  \n",
       "\n",
       "[5 rows x 52 columns]"
      ]
     },
     "execution_count": 8,
     "metadata": {},
     "output_type": "execute_result"
    }
   ],
   "source": [
    "print(data_train.shape)\n",
    "data_train.head()"
   ]
  },
  {
   "cell_type": "code",
   "execution_count": 9,
   "metadata": {},
   "outputs": [
    {
     "name": "stdout",
     "output_type": "stream",
     "text": [
      "(2469, 51)\n"
     ]
    },
    {
     "data": {
      "text/html": [
       "<div>\n",
       "<style scoped>\n",
       "    .dataframe tbody tr th:only-of-type {\n",
       "        vertical-align: middle;\n",
       "    }\n",
       "\n",
       "    .dataframe tbody tr th {\n",
       "        vertical-align: top;\n",
       "    }\n",
       "\n",
       "    .dataframe thead th {\n",
       "        text-align: right;\n",
       "    }\n",
       "</style>\n",
       "<table border=\"1\" class=\"dataframe\">\n",
       "  <thead>\n",
       "    <tr style=\"text-align: right;\">\n",
       "      <th></th>\n",
       "      <th>ID</th>\n",
       "      <th>area</th>\n",
       "      <th>rentType</th>\n",
       "      <th>houseType</th>\n",
       "      <th>houseFloor</th>\n",
       "      <th>totalFloor</th>\n",
       "      <th>houseToward</th>\n",
       "      <th>houseDecoration</th>\n",
       "      <th>communityName</th>\n",
       "      <th>city</th>\n",
       "      <th>...</th>\n",
       "      <th>landTotalPrice</th>\n",
       "      <th>landMeanPrice</th>\n",
       "      <th>totalWorkers</th>\n",
       "      <th>newWorkers</th>\n",
       "      <th>residentPopulation</th>\n",
       "      <th>pv</th>\n",
       "      <th>uv</th>\n",
       "      <th>lookNum</th>\n",
       "      <th>tradeTime</th>\n",
       "      <th>Type</th>\n",
       "    </tr>\n",
       "  </thead>\n",
       "  <tbody>\n",
       "    <tr>\n",
       "      <th>0</th>\n",
       "      <td>100000079</td>\n",
       "      <td>36.54</td>\n",
       "      <td>未知方式</td>\n",
       "      <td>1室1厅1卫</td>\n",
       "      <td>高</td>\n",
       "      <td>21</td>\n",
       "      <td>西北</td>\n",
       "      <td>其他</td>\n",
       "      <td>XQ03867</td>\n",
       "      <td>SH</td>\n",
       "      <td>...</td>\n",
       "      <td>0</td>\n",
       "      <td>0.0</td>\n",
       "      <td>41503</td>\n",
       "      <td>319</td>\n",
       "      <td>301635</td>\n",
       "      <td>1601.0</td>\n",
       "      <td>397.0</td>\n",
       "      <td>2</td>\n",
       "      <td>2018/10/25</td>\n",
       "      <td>Test</td>\n",
       "    </tr>\n",
       "    <tr>\n",
       "      <th>1</th>\n",
       "      <td>100000138</td>\n",
       "      <td>64.00</td>\n",
       "      <td>未知方式</td>\n",
       "      <td>2室1厅1卫</td>\n",
       "      <td>高</td>\n",
       "      <td>11</td>\n",
       "      <td>南北</td>\n",
       "      <td>其他</td>\n",
       "      <td>XQ00821</td>\n",
       "      <td>SH</td>\n",
       "      <td>...</td>\n",
       "      <td>0</td>\n",
       "      <td>0.0</td>\n",
       "      <td>4370</td>\n",
       "      <td>0</td>\n",
       "      <td>306857</td>\n",
       "      <td>21123.0</td>\n",
       "      <td>3066.0</td>\n",
       "      <td>0</td>\n",
       "      <td>2018/8/19</td>\n",
       "      <td>Test</td>\n",
       "    </tr>\n",
       "    <tr>\n",
       "      <th>2</th>\n",
       "      <td>100000192</td>\n",
       "      <td>98.00</td>\n",
       "      <td>未知方式</td>\n",
       "      <td>3室1厅1卫</td>\n",
       "      <td>高</td>\n",
       "      <td>6</td>\n",
       "      <td>暂无数据</td>\n",
       "      <td>精装</td>\n",
       "      <td>XQ00842</td>\n",
       "      <td>SH</td>\n",
       "      <td>...</td>\n",
       "      <td>0</td>\n",
       "      <td>0.0</td>\n",
       "      <td>4370</td>\n",
       "      <td>0</td>\n",
       "      <td>306857</td>\n",
       "      <td>17471.0</td>\n",
       "      <td>2554.0</td>\n",
       "      <td>0</td>\n",
       "      <td>2018/3/4</td>\n",
       "      <td>Test</td>\n",
       "    </tr>\n",
       "    <tr>\n",
       "      <th>3</th>\n",
       "      <td>100000200</td>\n",
       "      <td>43.45</td>\n",
       "      <td>未知方式</td>\n",
       "      <td>1室1厅1卫</td>\n",
       "      <td>高</td>\n",
       "      <td>6</td>\n",
       "      <td>暂无数据</td>\n",
       "      <td>其他</td>\n",
       "      <td>XQ00786</td>\n",
       "      <td>SH</td>\n",
       "      <td>...</td>\n",
       "      <td>0</td>\n",
       "      <td>0.0</td>\n",
       "      <td>4370</td>\n",
       "      <td>0</td>\n",
       "      <td>306857</td>\n",
       "      <td>19231.0</td>\n",
       "      <td>2016.0</td>\n",
       "      <td>0</td>\n",
       "      <td>2018/2/3</td>\n",
       "      <td>Test</td>\n",
       "    </tr>\n",
       "    <tr>\n",
       "      <th>4</th>\n",
       "      <td>100000430</td>\n",
       "      <td>92.00</td>\n",
       "      <td>未知方式</td>\n",
       "      <td>2室2厅1卫</td>\n",
       "      <td>高</td>\n",
       "      <td>6</td>\n",
       "      <td>暂无数据</td>\n",
       "      <td>其他</td>\n",
       "      <td>XQ01201</td>\n",
       "      <td>SH</td>\n",
       "      <td>...</td>\n",
       "      <td>1078790000</td>\n",
       "      <td>4536.0</td>\n",
       "      <td>20904</td>\n",
       "      <td>0</td>\n",
       "      <td>245872</td>\n",
       "      <td>26189.0</td>\n",
       "      <td>2957.0</td>\n",
       "      <td>0</td>\n",
       "      <td>2018/3/14</td>\n",
       "      <td>Test</td>\n",
       "    </tr>\n",
       "  </tbody>\n",
       "</table>\n",
       "<p>5 rows × 51 columns</p>\n",
       "</div>"
      ],
      "text/plain": [
       "          ID   area rentType houseType houseFloor  totalFloor houseToward  \\\n",
       "0  100000079  36.54     未知方式    1室1厅1卫          高          21          西北   \n",
       "1  100000138  64.00     未知方式    2室1厅1卫          高          11          南北   \n",
       "2  100000192  98.00     未知方式    3室1厅1卫          高           6        暂无数据   \n",
       "3  100000200  43.45     未知方式    1室1厅1卫          高           6        暂无数据   \n",
       "4  100000430  92.00     未知方式    2室2厅1卫          高           6        暂无数据   \n",
       "\n",
       "  houseDecoration communityName city  ... landTotalPrice landMeanPrice  \\\n",
       "0              其他       XQ03867   SH  ...              0           0.0   \n",
       "1              其他       XQ00821   SH  ...              0           0.0   \n",
       "2              精装       XQ00842   SH  ...              0           0.0   \n",
       "3              其他       XQ00786   SH  ...              0           0.0   \n",
       "4              其他       XQ01201   SH  ...     1078790000        4536.0   \n",
       "\n",
       "  totalWorkers  newWorkers  residentPopulation       pv      uv  lookNum  \\\n",
       "0        41503         319              301635   1601.0   397.0        2   \n",
       "1         4370           0              306857  21123.0  3066.0        0   \n",
       "2         4370           0              306857  17471.0  2554.0        0   \n",
       "3         4370           0              306857  19231.0  2016.0        0   \n",
       "4        20904           0              245872  26189.0  2957.0        0   \n",
       "\n",
       "    tradeTime  Type  \n",
       "0  2018/10/25  Test  \n",
       "1   2018/8/19  Test  \n",
       "2    2018/3/4  Test  \n",
       "3    2018/2/3  Test  \n",
       "4   2018/3/14  Test  \n",
       "\n",
       "[5 rows x 51 columns]"
      ]
     },
     "execution_count": 9,
     "metadata": {},
     "output_type": "execute_result"
    }
   ],
   "source": [
    "print(data_test.shape)\n",
    "data_test.head()"
   ]
  },
  {
   "cell_type": "code",
   "execution_count": 11,
   "metadata": {},
   "outputs": [
    {
     "name": "stdout",
     "output_type": "stream",
     "text": [
      "(2469, 51)\n"
     ]
    },
    {
     "data": {
      "text/html": [
       "<div>\n",
       "<style scoped>\n",
       "    .dataframe tbody tr th:only-of-type {\n",
       "        vertical-align: middle;\n",
       "    }\n",
       "\n",
       "    .dataframe tbody tr th {\n",
       "        vertical-align: top;\n",
       "    }\n",
       "\n",
       "    .dataframe thead th {\n",
       "        text-align: right;\n",
       "    }\n",
       "</style>\n",
       "<table border=\"1\" class=\"dataframe\">\n",
       "  <thead>\n",
       "    <tr style=\"text-align: right;\">\n",
       "      <th></th>\n",
       "      <th>ID</th>\n",
       "      <th>Type</th>\n",
       "      <th>area</th>\n",
       "      <th>bankNum</th>\n",
       "      <th>buildYear</th>\n",
       "      <th>busStationNum</th>\n",
       "      <th>city</th>\n",
       "      <th>communityName</th>\n",
       "      <th>drugStoreNum</th>\n",
       "      <th>gymNum</th>\n",
       "      <th>...</th>\n",
       "      <th>totalWorkers</th>\n",
       "      <th>tradeLandArea</th>\n",
       "      <th>tradeLandNum</th>\n",
       "      <th>tradeMeanPrice</th>\n",
       "      <th>tradeMoney</th>\n",
       "      <th>tradeNewMeanPrice</th>\n",
       "      <th>tradeNewNum</th>\n",
       "      <th>tradeSecNum</th>\n",
       "      <th>tradeTime</th>\n",
       "      <th>uv</th>\n",
       "    </tr>\n",
       "  </thead>\n",
       "  <tbody>\n",
       "    <tr>\n",
       "      <th>0</th>\n",
       "      <td>100309852</td>\n",
       "      <td>Train</td>\n",
       "      <td>68.06</td>\n",
       "      <td>16</td>\n",
       "      <td>1953</td>\n",
       "      <td>36</td>\n",
       "      <td>SH</td>\n",
       "      <td>XQ00051</td>\n",
       "      <td>12</td>\n",
       "      <td>15</td>\n",
       "      <td>...</td>\n",
       "      <td>28248</td>\n",
       "      <td>0.0</td>\n",
       "      <td>0</td>\n",
       "      <td>47974.22551</td>\n",
       "      <td>2000.0</td>\n",
       "      <td>104573.48460</td>\n",
       "      <td>25</td>\n",
       "      <td>111</td>\n",
       "      <td>2018/11/28</td>\n",
       "      <td>284.0</td>\n",
       "    </tr>\n",
       "    <tr>\n",
       "      <th>1</th>\n",
       "      <td>100307942</td>\n",
       "      <td>Train</td>\n",
       "      <td>125.55</td>\n",
       "      <td>16</td>\n",
       "      <td>2007</td>\n",
       "      <td>184</td>\n",
       "      <td>SH</td>\n",
       "      <td>XQ00130</td>\n",
       "      <td>27</td>\n",
       "      <td>5</td>\n",
       "      <td>...</td>\n",
       "      <td>14823</td>\n",
       "      <td>0.0</td>\n",
       "      <td>0</td>\n",
       "      <td>40706.66775</td>\n",
       "      <td>2000.0</td>\n",
       "      <td>33807.53497</td>\n",
       "      <td>2</td>\n",
       "      <td>2</td>\n",
       "      <td>2018/12/16</td>\n",
       "      <td>22.0</td>\n",
       "    </tr>\n",
       "    <tr>\n",
       "      <th>2</th>\n",
       "      <td>100307764</td>\n",
       "      <td>Train</td>\n",
       "      <td>132.00</td>\n",
       "      <td>37</td>\n",
       "      <td>暂无信息</td>\n",
       "      <td>60</td>\n",
       "      <td>SH</td>\n",
       "      <td>XQ00179</td>\n",
       "      <td>24</td>\n",
       "      <td>35</td>\n",
       "      <td>...</td>\n",
       "      <td>77645</td>\n",
       "      <td>0.0</td>\n",
       "      <td>0</td>\n",
       "      <td>34384.35089</td>\n",
       "      <td>16000.0</td>\n",
       "      <td>109734.16040</td>\n",
       "      <td>11</td>\n",
       "      <td>555</td>\n",
       "      <td>2018/12/22</td>\n",
       "      <td>20.0</td>\n",
       "    </tr>\n",
       "    <tr>\n",
       "      <th>3</th>\n",
       "      <td>100306518</td>\n",
       "      <td>Train</td>\n",
       "      <td>57.00</td>\n",
       "      <td>47</td>\n",
       "      <td>暂无信息</td>\n",
       "      <td>364</td>\n",
       "      <td>SH</td>\n",
       "      <td>XQ00313</td>\n",
       "      <td>83</td>\n",
       "      <td>30</td>\n",
       "      <td>...</td>\n",
       "      <td>8750</td>\n",
       "      <td>108037.8</td>\n",
       "      <td>1</td>\n",
       "      <td>20529.55050</td>\n",
       "      <td>1600.0</td>\n",
       "      <td>30587.07058</td>\n",
       "      <td>58</td>\n",
       "      <td>260</td>\n",
       "      <td>2018/12/21</td>\n",
       "      <td>279.0</td>\n",
       "    </tr>\n",
       "    <tr>\n",
       "      <th>4</th>\n",
       "      <td>100305262</td>\n",
       "      <td>Train</td>\n",
       "      <td>129.00</td>\n",
       "      <td>10</td>\n",
       "      <td>暂无信息</td>\n",
       "      <td>141</td>\n",
       "      <td>SH</td>\n",
       "      <td>XQ01257</td>\n",
       "      <td>21</td>\n",
       "      <td>5</td>\n",
       "      <td>...</td>\n",
       "      <td>800</td>\n",
       "      <td>0.0</td>\n",
       "      <td>0</td>\n",
       "      <td>24386.36577</td>\n",
       "      <td>2900.0</td>\n",
       "      <td>51127.32846</td>\n",
       "      <td>34</td>\n",
       "      <td>38</td>\n",
       "      <td>2018/11/18</td>\n",
       "      <td>480.0</td>\n",
       "    </tr>\n",
       "  </tbody>\n",
       "</table>\n",
       "<p>5 rows × 52 columns</p>\n",
       "</div>"
      ],
      "text/plain": [
       "          ID   Type    area  bankNum buildYear  busStationNum city  \\\n",
       "0  100309852  Train   68.06       16      1953             36   SH   \n",
       "1  100307942  Train  125.55       16      2007            184   SH   \n",
       "2  100307764  Train  132.00       37      暂无信息             60   SH   \n",
       "3  100306518  Train   57.00       47      暂无信息            364   SH   \n",
       "4  100305262  Train  129.00       10      暂无信息            141   SH   \n",
       "\n",
       "  communityName  drugStoreNum  gymNum  ...  totalWorkers tradeLandArea  \\\n",
       "0       XQ00051            12      15  ...         28248           0.0   \n",
       "1       XQ00130            27       5  ...         14823           0.0   \n",
       "2       XQ00179            24      35  ...         77645           0.0   \n",
       "3       XQ00313            83      30  ...          8750      108037.8   \n",
       "4       XQ01257            21       5  ...           800           0.0   \n",
       "\n",
       "  tradeLandNum tradeMeanPrice tradeMoney  tradeNewMeanPrice  tradeNewNum  \\\n",
       "0            0    47974.22551     2000.0       104573.48460           25   \n",
       "1            0    40706.66775     2000.0        33807.53497            2   \n",
       "2            0    34384.35089    16000.0       109734.16040           11   \n",
       "3            1    20529.55050     1600.0        30587.07058           58   \n",
       "4            0    24386.36577     2900.0        51127.32846           34   \n",
       "\n",
       "   tradeSecNum   tradeTime     uv  \n",
       "0          111  2018/11/28  284.0  \n",
       "1            2  2018/12/16   22.0  \n",
       "2          555  2018/12/22   20.0  \n",
       "3          260  2018/12/21  279.0  \n",
       "4           38  2018/11/18  480.0  \n",
       "\n",
       "[5 rows x 52 columns]"
      ]
     },
     "execution_count": 11,
     "metadata": {},
     "output_type": "execute_result"
    }
   ],
   "source": [
    "print(data_test.shape)\n",
    "data_all.head()"
   ]
  },
  {
   "cell_type": "code",
   "execution_count": 22,
   "metadata": {},
   "outputs": [
    {
     "name": "stdout",
     "output_type": "stream",
     "text": [
      "(43909, 52)\n"
     ]
    },
    {
     "data": {
      "text/html": [
       "<div>\n",
       "<style scoped>\n",
       "    .dataframe tbody tr th:only-of-type {\n",
       "        vertical-align: middle;\n",
       "    }\n",
       "\n",
       "    .dataframe tbody tr th {\n",
       "        vertical-align: top;\n",
       "    }\n",
       "\n",
       "    .dataframe thead th {\n",
       "        text-align: right;\n",
       "    }\n",
       "</style>\n",
       "<table border=\"1\" class=\"dataframe\">\n",
       "  <thead>\n",
       "    <tr style=\"text-align: right;\">\n",
       "      <th></th>\n",
       "      <th>ID</th>\n",
       "      <th>area</th>\n",
       "      <th>bankNum</th>\n",
       "      <th>busStationNum</th>\n",
       "      <th>drugStoreNum</th>\n",
       "      <th>gymNum</th>\n",
       "      <th>hospitalNum</th>\n",
       "      <th>interSchoolNum</th>\n",
       "      <th>landMeanPrice</th>\n",
       "      <th>landTotalPrice</th>\n",
       "      <th>...</th>\n",
       "      <th>totalTradeMoney</th>\n",
       "      <th>totalWorkers</th>\n",
       "      <th>tradeLandArea</th>\n",
       "      <th>tradeLandNum</th>\n",
       "      <th>tradeMeanPrice</th>\n",
       "      <th>tradeMoney</th>\n",
       "      <th>tradeNewMeanPrice</th>\n",
       "      <th>tradeNewNum</th>\n",
       "      <th>tradeSecNum</th>\n",
       "      <th>uv</th>\n",
       "    </tr>\n",
       "  </thead>\n",
       "  <tbody>\n",
       "    <tr>\n",
       "      <th>count</th>\n",
       "      <td>4.390900e+04</td>\n",
       "      <td>43909.000000</td>\n",
       "      <td>43909.000000</td>\n",
       "      <td>43909.000000</td>\n",
       "      <td>43909.000000</td>\n",
       "      <td>43909.000000</td>\n",
       "      <td>43909.000000</td>\n",
       "      <td>43909.000000</td>\n",
       "      <td>43909.000000</td>\n",
       "      <td>4.390900e+04</td>\n",
       "      <td>...</td>\n",
       "      <td>4.390900e+04</td>\n",
       "      <td>43909.000000</td>\n",
       "      <td>43909.000000</td>\n",
       "      <td>43909.000000</td>\n",
       "      <td>43909.000000</td>\n",
       "      <td>4.144000e+04</td>\n",
       "      <td>43909.000000</td>\n",
       "      <td>43909.000000</td>\n",
       "      <td>43909.000000</td>\n",
       "      <td>43889.000000</td>\n",
       "    </tr>\n",
       "    <tr>\n",
       "      <th>mean</th>\n",
       "      <td>1.001240e+08</td>\n",
       "      <td>71.244632</td>\n",
       "      <td>49.033774</td>\n",
       "      <td>185.948894</td>\n",
       "      <td>57.541233</td>\n",
       "      <td>35.978296</td>\n",
       "      <td>4.309504</td>\n",
       "      <td>1.500581</td>\n",
       "      <td>711.030255</td>\n",
       "      <td>1.025913e+08</td>\n",
       "      <td>...</td>\n",
       "      <td>6.827095e+08</td>\n",
       "      <td>77842.355144</td>\n",
       "      <td>12435.196301</td>\n",
       "      <td>0.145574</td>\n",
       "      <td>40235.600156</td>\n",
       "      <td>8.837074e+03</td>\n",
       "      <td>47142.313903</td>\n",
       "      <td>56.894532</td>\n",
       "      <td>220.882849</td>\n",
       "      <td>3050.750461</td>\n",
       "    </tr>\n",
       "    <tr>\n",
       "      <th>std</th>\n",
       "      <td>9.466385e+04</td>\n",
       "      <td>85.891320</td>\n",
       "      <td>34.465085</td>\n",
       "      <td>178.682645</td>\n",
       "      <td>39.950625</td>\n",
       "      <td>20.401294</td>\n",
       "      <td>3.355985</td>\n",
       "      <td>1.687327</td>\n",
       "      <td>3187.343277</td>\n",
       "      <td>5.161403e+08</td>\n",
       "      <td>...</td>\n",
       "      <td>4.532824e+08</td>\n",
       "      <td>132644.006630</td>\n",
       "      <td>49419.033590</td>\n",
       "      <td>0.552753</td>\n",
       "      <td>13261.554721</td>\n",
       "      <td>5.514287e+05</td>\n",
       "      <td>35251.714091</td>\n",
       "      <td>107.399574</td>\n",
       "      <td>134.471356</td>\n",
       "      <td>2961.670908</td>\n",
       "    </tr>\n",
       "    <tr>\n",
       "      <th>min</th>\n",
       "      <td>1.000000e+08</td>\n",
       "      <td>1.000000</td>\n",
       "      <td>7.000000</td>\n",
       "      <td>24.000000</td>\n",
       "      <td>8.000000</td>\n",
       "      <td>1.000000</td>\n",
       "      <td>0.000000</td>\n",
       "      <td>0.000000</td>\n",
       "      <td>0.000000</td>\n",
       "      <td>0.000000e+00</td>\n",
       "      <td>...</td>\n",
       "      <td>0.000000e+00</td>\n",
       "      <td>600.000000</td>\n",
       "      <td>0.000000</td>\n",
       "      <td>0.000000</td>\n",
       "      <td>0.000000</td>\n",
       "      <td>0.000000e+00</td>\n",
       "      <td>0.000000</td>\n",
       "      <td>0.000000</td>\n",
       "      <td>0.000000</td>\n",
       "      <td>6.000000</td>\n",
       "    </tr>\n",
       "    <tr>\n",
       "      <th>25%</th>\n",
       "      <td>1.000476e+08</td>\n",
       "      <td>43.260000</td>\n",
       "      <td>24.000000</td>\n",
       "      <td>74.000000</td>\n",
       "      <td>31.000000</td>\n",
       "      <td>25.000000</td>\n",
       "      <td>2.000000</td>\n",
       "      <td>0.000000</td>\n",
       "      <td>0.000000</td>\n",
       "      <td>0.000000e+00</td>\n",
       "      <td>...</td>\n",
       "      <td>3.884100e+08</td>\n",
       "      <td>13983.000000</td>\n",
       "      <td>0.000000</td>\n",
       "      <td>0.000000</td>\n",
       "      <td>31155.248010</td>\n",
       "      <td>2.800000e+03</td>\n",
       "      <td>29029.087350</td>\n",
       "      <td>1.000000</td>\n",
       "      <td>124.000000</td>\n",
       "      <td>1016.000000</td>\n",
       "    </tr>\n",
       "    <tr>\n",
       "      <th>50%</th>\n",
       "      <td>1.000977e+08</td>\n",
       "      <td>65.300000</td>\n",
       "      <td>41.000000</td>\n",
       "      <td>114.000000</td>\n",
       "      <td>40.000000</td>\n",
       "      <td>34.000000</td>\n",
       "      <td>4.000000</td>\n",
       "      <td>1.000000</td>\n",
       "      <td>0.000000</td>\n",
       "      <td>0.000000e+00</td>\n",
       "      <td>...</td>\n",
       "      <td>5.698710e+08</td>\n",
       "      <td>38947.000000</td>\n",
       "      <td>0.000000</td>\n",
       "      <td>0.000000</td>\n",
       "      <td>39630.248350</td>\n",
       "      <td>4.000000e+03</td>\n",
       "      <td>41788.375860</td>\n",
       "      <td>8.000000</td>\n",
       "      <td>193.000000</td>\n",
       "      <td>2308.000000</td>\n",
       "    </tr>\n",
       "    <tr>\n",
       "      <th>75%</th>\n",
       "      <td>1.001938e+08</td>\n",
       "      <td>90.000000</td>\n",
       "      <td>62.000000</td>\n",
       "      <td>258.000000</td>\n",
       "      <td>83.000000</td>\n",
       "      <td>41.000000</td>\n",
       "      <td>6.000000</td>\n",
       "      <td>3.000000</td>\n",
       "      <td>0.000000</td>\n",
       "      <td>0.000000e+00</td>\n",
       "      <td>...</td>\n",
       "      <td>8.781700e+08</td>\n",
       "      <td>76668.000000</td>\n",
       "      <td>0.000000</td>\n",
       "      <td>0.000000</td>\n",
       "      <td>49746.069710</td>\n",
       "      <td>5.500000e+03</td>\n",
       "      <td>68808.852910</td>\n",
       "      <td>63.000000</td>\n",
       "      <td>300.000000</td>\n",
       "      <td>4184.000000</td>\n",
       "    </tr>\n",
       "    <tr>\n",
       "      <th>max</th>\n",
       "      <td>1.003218e+08</td>\n",
       "      <td>15055.000000</td>\n",
       "      <td>207.000000</td>\n",
       "      <td>824.000000</td>\n",
       "      <td>174.000000</td>\n",
       "      <td>88.000000</td>\n",
       "      <td>14.000000</td>\n",
       "      <td>8.000000</td>\n",
       "      <td>37513.062490</td>\n",
       "      <td>6.197570e+09</td>\n",
       "      <td>...</td>\n",
       "      <td>2.402060e+09</td>\n",
       "      <td>855400.000000</td>\n",
       "      <td>555508.010000</td>\n",
       "      <td>5.000000</td>\n",
       "      <td>112471.174100</td>\n",
       "      <td>1.000000e+08</td>\n",
       "      <td>299318.753400</td>\n",
       "      <td>825.000000</td>\n",
       "      <td>675.000000</td>\n",
       "      <td>39876.000000</td>\n",
       "    </tr>\n",
       "  </tbody>\n",
       "</table>\n",
       "<p>8 rows × 40 columns</p>\n",
       "</div>"
      ],
      "text/plain": [
       "                 ID          area       bankNum  busStationNum  drugStoreNum  \\\n",
       "count  4.390900e+04  43909.000000  43909.000000   43909.000000  43909.000000   \n",
       "mean   1.001240e+08     71.244632     49.033774     185.948894     57.541233   \n",
       "std    9.466385e+04     85.891320     34.465085     178.682645     39.950625   \n",
       "min    1.000000e+08      1.000000      7.000000      24.000000      8.000000   \n",
       "25%    1.000476e+08     43.260000     24.000000      74.000000     31.000000   \n",
       "50%    1.000977e+08     65.300000     41.000000     114.000000     40.000000   \n",
       "75%    1.001938e+08     90.000000     62.000000     258.000000     83.000000   \n",
       "max    1.003218e+08  15055.000000    207.000000     824.000000    174.000000   \n",
       "\n",
       "             gymNum   hospitalNum  interSchoolNum  landMeanPrice  \\\n",
       "count  43909.000000  43909.000000    43909.000000   43909.000000   \n",
       "mean      35.978296      4.309504        1.500581     711.030255   \n",
       "std       20.401294      3.355985        1.687327    3187.343277   \n",
       "min        1.000000      0.000000        0.000000       0.000000   \n",
       "25%       25.000000      2.000000        0.000000       0.000000   \n",
       "50%       34.000000      4.000000        1.000000       0.000000   \n",
       "75%       41.000000      6.000000        3.000000       0.000000   \n",
       "max       88.000000     14.000000        8.000000   37513.062490   \n",
       "\n",
       "       landTotalPrice  ...  totalTradeMoney   totalWorkers  tradeLandArea  \\\n",
       "count    4.390900e+04  ...     4.390900e+04   43909.000000   43909.000000   \n",
       "mean     1.025913e+08  ...     6.827095e+08   77842.355144   12435.196301   \n",
       "std      5.161403e+08  ...     4.532824e+08  132644.006630   49419.033590   \n",
       "min      0.000000e+00  ...     0.000000e+00     600.000000       0.000000   \n",
       "25%      0.000000e+00  ...     3.884100e+08   13983.000000       0.000000   \n",
       "50%      0.000000e+00  ...     5.698710e+08   38947.000000       0.000000   \n",
       "75%      0.000000e+00  ...     8.781700e+08   76668.000000       0.000000   \n",
       "max      6.197570e+09  ...     2.402060e+09  855400.000000  555508.010000   \n",
       "\n",
       "       tradeLandNum  tradeMeanPrice    tradeMoney  tradeNewMeanPrice  \\\n",
       "count  43909.000000    43909.000000  4.144000e+04       43909.000000   \n",
       "mean       0.145574    40235.600156  8.837074e+03       47142.313903   \n",
       "std        0.552753    13261.554721  5.514287e+05       35251.714091   \n",
       "min        0.000000        0.000000  0.000000e+00           0.000000   \n",
       "25%        0.000000    31155.248010  2.800000e+03       29029.087350   \n",
       "50%        0.000000    39630.248350  4.000000e+03       41788.375860   \n",
       "75%        0.000000    49746.069710  5.500000e+03       68808.852910   \n",
       "max        5.000000   112471.174100  1.000000e+08      299318.753400   \n",
       "\n",
       "        tradeNewNum   tradeSecNum            uv  \n",
       "count  43909.000000  43909.000000  43889.000000  \n",
       "mean      56.894532    220.882849   3050.750461  \n",
       "std      107.399574    134.471356   2961.670908  \n",
       "min        0.000000      0.000000      6.000000  \n",
       "25%        1.000000    124.000000   1016.000000  \n",
       "50%        8.000000    193.000000   2308.000000  \n",
       "75%       63.000000    300.000000   4184.000000  \n",
       "max      825.000000    675.000000  39876.000000  \n",
       "\n",
       "[8 rows x 40 columns]"
      ]
     },
     "execution_count": 22,
     "metadata": {},
     "output_type": "execute_result"
    }
   ],
   "source": [
    "print(data_all.shape)\n",
    "data_all.describe()"
   ]
  },
  {
   "cell_type": "code",
   "execution_count": 16,
   "metadata": {
    "scrolled": true
   },
   "outputs": [
    {
     "name": "stdout",
     "output_type": "stream",
     "text": [
      "<class 'pandas.core.frame.DataFrame'>\n",
      "RangeIndex: 43909 entries, 0 to 43908\n",
      "Data columns (total 52 columns):\n",
      "ID                    43909 non-null int64\n",
      "Type                  43909 non-null object\n",
      "area                  43909 non-null float64\n",
      "bankNum               43909 non-null int64\n",
      "buildYear             43909 non-null object\n",
      "busStationNum         43909 non-null int64\n",
      "city                  43909 non-null object\n",
      "communityName         43909 non-null object\n",
      "drugStoreNum          43909 non-null int64\n",
      "gymNum                43909 non-null int64\n",
      "hospitalNum           43909 non-null int64\n",
      "houseDecoration       43909 non-null object\n",
      "houseFloor            43909 non-null object\n",
      "houseToward           43909 non-null object\n",
      "houseType             43909 non-null object\n",
      "interSchoolNum        43909 non-null int64\n",
      "landMeanPrice         43909 non-null float64\n",
      "landTotalPrice        43909 non-null int64\n",
      "lookNum               43909 non-null int64\n",
      "mallNum               43909 non-null int64\n",
      "newWorkers            43909 non-null int64\n",
      "parkNum               43909 non-null int64\n",
      "plate                 43909 non-null object\n",
      "privateSchoolNum      43909 non-null int64\n",
      "pv                    43889 non-null float64\n",
      "region                43909 non-null object\n",
      "remainNewNum          43909 non-null int64\n",
      "rentType              43909 non-null object\n",
      "residentPopulation    43909 non-null int64\n",
      "saleSecHouseNum       43909 non-null int64\n",
      "schoolNum             43909 non-null int64\n",
      "shopNum               43909 non-null int64\n",
      "subwayStationNum      43909 non-null int64\n",
      "superMarketNum        43909 non-null int64\n",
      "supplyLandArea        43909 non-null float64\n",
      "supplyLandNum         43909 non-null int64\n",
      "supplyNewNum          43909 non-null int64\n",
      "totalFloor            43909 non-null int64\n",
      "totalNewTradeArea     43909 non-null int64\n",
      "totalNewTradeMoney    43909 non-null int64\n",
      "totalTradeArea        43909 non-null float64\n",
      "totalTradeMoney       43909 non-null int64\n",
      "totalWorkers          43909 non-null int64\n",
      "tradeLandArea         43909 non-null float64\n",
      "tradeLandNum          43909 non-null int64\n",
      "tradeMeanPrice        43909 non-null float64\n",
      "tradeMoney            41440 non-null float64\n",
      "tradeNewMeanPrice     43909 non-null float64\n",
      "tradeNewNum           43909 non-null int64\n",
      "tradeSecNum           43909 non-null int64\n",
      "tradeTime             43909 non-null object\n",
      "uv                    43889 non-null float64\n",
      "dtypes: float64(10), int64(30), object(12)\n",
      "memory usage: 17.4+ MB\n"
     ]
    }
   ],
   "source": [
    "data_all.info()"
   ]
  },
  {
   "cell_type": "markdown",
   "metadata": {},
   "source": [
    "### 简要分析\n",
    "该份训练集包含 41440行×52列数据  \n",
    "目标变量是 真实房租价格- **tradeMoney** \n",
    "  \n",
    "大多数数据都是int或float型；有部分字段是object型，即文本型中文或英文的，如rentType字段，这些字段在之后需要做处理  "
   ]
  },
  {
   "cell_type": "markdown",
   "metadata": {},
   "source": [
    "## 4. 分类特征和连续型特征"
   ]
  },
  {
   "cell_type": "code",
   "execution_count": 48,
   "metadata": {},
   "outputs": [
    {
     "name": "stdout",
     "output_type": "stream",
     "text": [
      "['ID', 'area', 'bankNum', 'busStationNum', 'drugStoreNum', 'gymNum', 'hospitalNum', 'interSchoolNum', 'landMeanPrice', 'landTotalPrice', 'lookNum', 'mallNum', 'newWorkers', 'parkNum', 'privateSchoolNum', 'pv', 'remainNewNum', 'residentPopulation', 'saleSecHouseNum', 'schoolNum', 'shopNum', 'subwayStationNum', 'superMarketNum', 'supplyLandArea', 'supplyLandNum', 'supplyNewNum', 'totalFloor', 'totalNewTradeArea', 'totalNewTradeMoney', 'totalTradeArea', 'totalTradeMoney', 'totalWorkers', 'tradeLandArea', 'tradeLandNum', 'tradeMeanPrice', 'tradeMoney', 'tradeNewMeanPrice', 'tradeNewNum', 'tradeSecNum', 'uv']\n",
      "['Type', 'buildYear', 'city', 'communityName', 'houseDecoration', 'houseFloor', 'houseToward', 'houseType', 'plate', 'region', 'rentType', 'tradeTime']\n"
     ]
    }
   ],
   "source": [
    "# 用于区别object类型和其他类型的数据\n",
    "def filter_object_col(df, inverse=False):\n",
    "    col_name_list = list(df.columns.values)\n",
    "    obj_list = []\n",
    "    other_list = []\n",
    "    for index, d in enumerate(df.dtypes):\n",
    "        if d == \"object\":\n",
    "            obj_list.append(col_name_list[index])\n",
    "        else:\n",
    "            other_list.append(col_name_list[index])\n",
    "    \n",
    "    if not inverse:\n",
    "        return obj_list\n",
    "    else:\n",
    "        return other_list\n",
    "\n",
    "numerical_feas = filter_object_col(data_all, inverse=True)\n",
    "categorical_feas = filter_object_col(data_all, inverse=False)\n",
    "print(numerical_feas)\n",
    "print(categorical_feas)"
   ]
  },
  {
   "cell_type": "code",
   "execution_count": 21,
   "metadata": {
    "ExecuteTime": {
     "end_time": "2019-12-24T14:05:08.172371Z",
     "start_time": "2019-12-24T14:05:08.162401Z"
    }
   },
   "outputs": [],
   "source": [
    "# 根据特征含义和特征一览，大致可以判断出数值型和类别型特征如下\n",
    "categorical_feas = ['rentType', 'houseType', 'houseFloor', 'region', 'plate', 'houseToward',\n",
    "                    'houseDecoration', 'communityName','plate','buildYear']\n",
    "\n",
    "numerical_feas=['ID','area','totalFloor','saleSecHouseNum','subwayStationNum',\n",
    "    'busStationNum','interSchoolNum','schoolNum','privateSchoolNum','hospitalNum',\n",
    "    'drugStoreNum','gymNum','bankNum','shopNum','parkNum','mallNum','superMarketNum',\n",
    "    'totalTradeMoney','totalTradeArea','tradeMeanPrice','tradeSecNum','totalNewTradeMoney',\n",
    "    'totalNewTradeArea','tradeNewMeanPrice','tradeNewNum','remainNewNum','supplyNewNum',\n",
    "    'supplyLandNum','supplyLandArea','tradeLandNum','tradeLandArea','landTotalPrice',\n",
    "    'landMeanPrice','totalWorkers','newWorkers','residentPopulation','pv','uv','lookNum']"
   ]
  },
  {
   "cell_type": "markdown",
   "metadata": {},
   "source": [
    "## 5. 缺失值分析"
   ]
  },
  {
   "cell_type": "code",
   "execution_count": 23,
   "metadata": {
    "ExecuteTime": {
     "end_time": "2019-12-24T14:05:09.367176Z",
     "start_time": "2019-12-24T14:05:09.263457Z"
    },
    "scrolled": true
   },
   "outputs": [
    {
     "data": {
      "text/html": [
       "<div>\n",
       "<style scoped>\n",
       "    .dataframe tbody tr th:only-of-type {\n",
       "        vertical-align: middle;\n",
       "    }\n",
       "\n",
       "    .dataframe tbody tr th {\n",
       "        vertical-align: top;\n",
       "    }\n",
       "\n",
       "    .dataframe thead th {\n",
       "        text-align: right;\n",
       "    }\n",
       "</style>\n",
       "<table border=\"1\" class=\"dataframe\">\n",
       "  <thead>\n",
       "    <tr style=\"text-align: right;\">\n",
       "      <th></th>\n",
       "      <th>missingNum</th>\n",
       "      <th>existNum</th>\n",
       "      <th>sum</th>\n",
       "      <th>missingRatio</th>\n",
       "      <th>dtype</th>\n",
       "    </tr>\n",
       "    <tr>\n",
       "      <th>index</th>\n",
       "      <th></th>\n",
       "      <th></th>\n",
       "      <th></th>\n",
       "      <th></th>\n",
       "      <th></th>\n",
       "    </tr>\n",
       "  </thead>\n",
       "  <tbody>\n",
       "    <tr>\n",
       "      <th>pv</th>\n",
       "      <td>18</td>\n",
       "      <td>41422</td>\n",
       "      <td>41440</td>\n",
       "      <td>0.043436</td>\n",
       "      <td>float64</td>\n",
       "    </tr>\n",
       "    <tr>\n",
       "      <th>uv</th>\n",
       "      <td>18</td>\n",
       "      <td>41422</td>\n",
       "      <td>41440</td>\n",
       "      <td>0.043436</td>\n",
       "      <td>float64</td>\n",
       "    </tr>\n",
       "  </tbody>\n",
       "</table>\n",
       "</div>"
      ],
      "text/plain": [
       "       missingNum  existNum    sum  missingRatio    dtype\n",
       "index                                                    \n",
       "pv             18     41422  41440      0.043436  float64\n",
       "uv             18     41422  41440      0.043436  float64"
      ]
     },
     "execution_count": 23,
     "metadata": {},
     "output_type": "execute_result"
    }
   ],
   "source": [
    "# 缺失值分析\n",
    "def missing_values(df):\n",
    "    alldata_na = pd.DataFrame(df.isnull().sum(), columns={'missingNum'})\n",
    "    alldata_na['existNum'] = len(df) - alldata_na['missingNum']\n",
    "    alldata_na['sum'] = len(df)\n",
    "    alldata_na['missingRatio'] = alldata_na['missingNum']/len(df)*100\n",
    "    alldata_na['dtype'] = df.dtypes\n",
    "    #ascending：默认True升序排列；False降序排列\n",
    "    alldata_na = alldata_na[alldata_na['missingNum']>0].reset_index().sort_values(by=['missingNum','index'],ascending=[False,True])\n",
    "    alldata_na.set_index('index',inplace=True)\n",
    "    return alldata_na\n",
    "\n",
    "missing_values(data_train)"
   ]
  },
  {
   "cell_type": "markdown",
   "metadata": {},
   "source": [
    "### 简要分析\n",
    "这里采用编写函数的方式来直接获取结果（这种方式会在之后反复用到，建议大家尽早养成函数式编写的习惯）；  \n",
    "其实在总体情况一览中，info()函数也能看出来。  \n",
    "  \n",
    "结果是，仅有pv、uv存在缺失值，后面再探究会发现缺失的都是属于同一个plate，可能是官方直接删除了该plate的pv、uv"
   ]
  },
  {
   "cell_type": "markdown",
   "metadata": {},
   "source": [
    "## 6. 单调特征列分析"
   ]
  },
  {
   "cell_type": "code",
   "execution_count": 36,
   "metadata": {},
   "outputs": [
    {
     "data": {
      "text/html": [
       "<div>\n",
       "<style scoped>\n",
       "    .dataframe tbody tr th:only-of-type {\n",
       "        vertical-align: middle;\n",
       "    }\n",
       "\n",
       "    .dataframe tbody tr th {\n",
       "        vertical-align: top;\n",
       "    }\n",
       "\n",
       "    .dataframe thead th {\n",
       "        text-align: right;\n",
       "    }\n",
       "</style>\n",
       "<table border=\"1\" class=\"dataframe\">\n",
       "  <thead>\n",
       "    <tr style=\"text-align: right;\">\n",
       "      <th></th>\n",
       "      <th>ID</th>\n",
       "      <th>area</th>\n",
       "      <th>rentType</th>\n",
       "      <th>houseType</th>\n",
       "      <th>houseFloor</th>\n",
       "      <th>totalFloor</th>\n",
       "      <th>houseToward</th>\n",
       "      <th>houseDecoration</th>\n",
       "      <th>communityName</th>\n",
       "      <th>city</th>\n",
       "      <th>...</th>\n",
       "      <th>landTotalPrice</th>\n",
       "      <th>landMeanPrice</th>\n",
       "      <th>totalWorkers</th>\n",
       "      <th>newWorkers</th>\n",
       "      <th>residentPopulation</th>\n",
       "      <th>pv</th>\n",
       "      <th>uv</th>\n",
       "      <th>lookNum</th>\n",
       "      <th>tradeMoney</th>\n",
       "      <th>Type</th>\n",
       "    </tr>\n",
       "    <tr>\n",
       "      <th>tradeTime</th>\n",
       "      <th></th>\n",
       "      <th></th>\n",
       "      <th></th>\n",
       "      <th></th>\n",
       "      <th></th>\n",
       "      <th></th>\n",
       "      <th></th>\n",
       "      <th></th>\n",
       "      <th></th>\n",
       "      <th></th>\n",
       "      <th></th>\n",
       "      <th></th>\n",
       "      <th></th>\n",
       "      <th></th>\n",
       "      <th></th>\n",
       "      <th></th>\n",
       "      <th></th>\n",
       "      <th></th>\n",
       "      <th></th>\n",
       "      <th></th>\n",
       "      <th></th>\n",
       "    </tr>\n",
       "  </thead>\n",
       "  <tbody>\n",
       "    <tr>\n",
       "      <th>2018/1/1</th>\n",
       "      <td>100237533</td>\n",
       "      <td>10.60</td>\n",
       "      <td>合租</td>\n",
       "      <td>3室1厅1卫</td>\n",
       "      <td>中</td>\n",
       "      <td>23</td>\n",
       "      <td>南</td>\n",
       "      <td>精装</td>\n",
       "      <td>XQ02533</td>\n",
       "      <td>SH</td>\n",
       "      <td>...</td>\n",
       "      <td>0</td>\n",
       "      <td>0.0</td>\n",
       "      <td>74225</td>\n",
       "      <td>0</td>\n",
       "      <td>318387</td>\n",
       "      <td>22246.0</td>\n",
       "      <td>1247.0</td>\n",
       "      <td>0</td>\n",
       "      <td>2060.0</td>\n",
       "      <td>Train</td>\n",
       "    </tr>\n",
       "    <tr>\n",
       "      <th>2018/1/1</th>\n",
       "      <td>100152787</td>\n",
       "      <td>15.40</td>\n",
       "      <td>合租</td>\n",
       "      <td>4室1厅1卫</td>\n",
       "      <td>低</td>\n",
       "      <td>6</td>\n",
       "      <td>南</td>\n",
       "      <td>精装</td>\n",
       "      <td>XQ00506</td>\n",
       "      <td>SH</td>\n",
       "      <td>...</td>\n",
       "      <td>0</td>\n",
       "      <td>0.0</td>\n",
       "      <td>166244</td>\n",
       "      <td>0</td>\n",
       "      <td>190706</td>\n",
       "      <td>27830.0</td>\n",
       "      <td>2707.0</td>\n",
       "      <td>0</td>\n",
       "      <td>2890.0</td>\n",
       "      <td>Train</td>\n",
       "    </tr>\n",
       "    <tr>\n",
       "      <th>2018/1/1</th>\n",
       "      <td>100233534</td>\n",
       "      <td>14.00</td>\n",
       "      <td>合租</td>\n",
       "      <td>3室1厅1卫</td>\n",
       "      <td>中</td>\n",
       "      <td>23</td>\n",
       "      <td>南</td>\n",
       "      <td>精装</td>\n",
       "      <td>XQ02533</td>\n",
       "      <td>SH</td>\n",
       "      <td>...</td>\n",
       "      <td>0</td>\n",
       "      <td>0.0</td>\n",
       "      <td>74225</td>\n",
       "      <td>0</td>\n",
       "      <td>318387</td>\n",
       "      <td>22246.0</td>\n",
       "      <td>1247.0</td>\n",
       "      <td>0</td>\n",
       "      <td>2060.0</td>\n",
       "      <td>Train</td>\n",
       "    </tr>\n",
       "    <tr>\n",
       "      <th>2018/1/1</th>\n",
       "      <td>100160787</td>\n",
       "      <td>34.53</td>\n",
       "      <td>整租</td>\n",
       "      <td>1室1厅1卫</td>\n",
       "      <td>中</td>\n",
       "      <td>6</td>\n",
       "      <td>东</td>\n",
       "      <td>精装</td>\n",
       "      <td>XQ03927</td>\n",
       "      <td>SH</td>\n",
       "      <td>...</td>\n",
       "      <td>0</td>\n",
       "      <td>0.0</td>\n",
       "      <td>41503</td>\n",
       "      <td>0</td>\n",
       "      <td>301635</td>\n",
       "      <td>29793.0</td>\n",
       "      <td>2056.0</td>\n",
       "      <td>0</td>\n",
       "      <td>3690.0</td>\n",
       "      <td>Train</td>\n",
       "    </tr>\n",
       "    <tr>\n",
       "      <th>2018/1/1</th>\n",
       "      <td>100054180</td>\n",
       "      <td>13.00</td>\n",
       "      <td>合租</td>\n",
       "      <td>3室1厅1卫</td>\n",
       "      <td>高</td>\n",
       "      <td>13</td>\n",
       "      <td>南</td>\n",
       "      <td>精装</td>\n",
       "      <td>XQ02123</td>\n",
       "      <td>SH</td>\n",
       "      <td>...</td>\n",
       "      <td>0</td>\n",
       "      <td>0.0</td>\n",
       "      <td>77347</td>\n",
       "      <td>0</td>\n",
       "      <td>153762</td>\n",
       "      <td>24585.0</td>\n",
       "      <td>1880.0</td>\n",
       "      <td>0</td>\n",
       "      <td>3160.0</td>\n",
       "      <td>Train</td>\n",
       "    </tr>\n",
       "  </tbody>\n",
       "</table>\n",
       "<p>5 rows × 51 columns</p>\n",
       "</div>"
      ],
      "text/plain": [
       "                  ID   area rentType houseType houseFloor  totalFloor  \\\n",
       "tradeTime                                                               \n",
       "2018/1/1   100237533  10.60       合租    3室1厅1卫          中          23   \n",
       "2018/1/1   100152787  15.40       合租    4室1厅1卫          低           6   \n",
       "2018/1/1   100233534  14.00       合租    3室1厅1卫          中          23   \n",
       "2018/1/1   100160787  34.53       整租    1室1厅1卫          中           6   \n",
       "2018/1/1   100054180  13.00       合租    3室1厅1卫          高          13   \n",
       "\n",
       "          houseToward houseDecoration communityName city  ... landTotalPrice  \\\n",
       "tradeTime                                                 ...                  \n",
       "2018/1/1            南              精装       XQ02533   SH  ...              0   \n",
       "2018/1/1            南              精装       XQ00506   SH  ...              0   \n",
       "2018/1/1            南              精装       XQ02533   SH  ...              0   \n",
       "2018/1/1            东              精装       XQ03927   SH  ...              0   \n",
       "2018/1/1            南              精装       XQ02123   SH  ...              0   \n",
       "\n",
       "          landMeanPrice totalWorkers  newWorkers  residentPopulation       pv  \\\n",
       "tradeTime                                                                       \n",
       "2018/1/1            0.0        74225           0              318387  22246.0   \n",
       "2018/1/1            0.0       166244           0              190706  27830.0   \n",
       "2018/1/1            0.0        74225           0              318387  22246.0   \n",
       "2018/1/1            0.0        41503           0              301635  29793.0   \n",
       "2018/1/1            0.0        77347           0              153762  24585.0   \n",
       "\n",
       "               uv  lookNum  tradeMoney   Type  \n",
       "tradeTime                                      \n",
       "2018/1/1   1247.0        0      2060.0  Train  \n",
       "2018/1/1   2707.0        0      2890.0  Train  \n",
       "2018/1/1   1247.0        0      2060.0  Train  \n",
       "2018/1/1   2056.0        0      3690.0  Train  \n",
       "2018/1/1   1880.0        0      3160.0  Train  \n",
       "\n",
       "[5 rows x 51 columns]"
      ]
     },
     "execution_count": 36,
     "metadata": {},
     "output_type": "execute_result"
    }
   ],
   "source": [
    "# 将时间特征作为index，并按照时间排序\n",
    "data_train_inc = data_train\n",
    "data_train_inc = data_train_inc.set_index(\"tradeTime\")\n",
    "data_train_inc = data_train_inc.sort_index(ascending=True)\n",
    "data_train_inc.head()"
   ]
  },
  {
   "cell_type": "code",
   "execution_count": 56,
   "metadata": {
    "ExecuteTime": {
     "end_time": "2019-12-24T14:05:35.623999Z",
     "start_time": "2019-12-24T14:05:34.738329Z"
    }
   },
   "outputs": [],
   "source": [
    "#是否有单调特征列(单调的特征列很大可能是时间)\n",
    "def incresing(vals):\n",
    "    cnt = 0\n",
    "    len_ = len(vals)\n",
    "    for i in range(len_-1):\n",
    "        if vals[i+1] > vals[i]:\n",
    "            cnt += 1\n",
    "    return cnt\n",
    "\n",
    "# 使用时间排序之后的df分析在时间维度是否有单调特征\n",
    "fea_cols = [col for col in data_train_inc.columns]\n",
    "for col in fea_cols:\n",
    "    cnt = incresing(data_train_inc[col].values)\n",
    "    if cnt / data_train_inc.shape[0] >= 0.55:\n",
    "        print('单调特征：',col)\n",
    "        print('单调特征值个数：', cnt)\n",
    "        print('单调特征值比例：', cnt / data_train_inc.shape[0])"
   ]
  },
  {
   "cell_type": "markdown",
   "metadata": {},
   "source": [
    "### 简要分析\n",
    "先编写判断单调的函数 *incresing*， 然后再应用到每列上；  \n",
    "单调特征是 tradeTime，为时间列。  \n",
    "  \n",
    "多说句额外的，时间列在特征工程的时候，不同的情况下能有很多的变种形式，比如按年月日分箱，或者按不同的维度在时间上聚合分组，等等  "
   ]
  },
  {
   "cell_type": "markdown",
   "metadata": {},
   "source": [
    "## 7. 特征nunique分布"
   ]
  },
  {
   "cell_type": "code",
   "execution_count": 57,
   "metadata": {
    "scrolled": true
   },
   "outputs": [
    {
     "data": {
      "text/plain": [
       "Type                  2\n",
       "buildYear            80\n",
       "city                  1\n",
       "communityName      4236\n",
       "houseDecoration       4\n",
       "houseFloor            3\n",
       "houseToward          10\n",
       "houseType           107\n",
       "plate                66\n",
       "region               15\n",
       "rentType              4\n",
       "tradeTime           361\n",
       "dtype: int64"
      ]
     },
     "execution_count": 57,
     "metadata": {},
     "output_type": "execute_result"
    }
   ],
   "source": [
    "# 查看离散特征的特征量\n",
    "data_all[categorical_feas].nunique()"
   ]
  },
  {
   "cell_type": "code",
   "execution_count": 59,
   "metadata": {},
   "outputs": [
    {
     "data": {
      "text/plain": [
       "['Type',\n",
       " 'buildYear',\n",
       " 'city',\n",
       " 'houseDecoration',\n",
       " 'houseFloor',\n",
       " 'houseToward',\n",
       " 'houseType',\n",
       " 'plate',\n",
       " 'region',\n",
       " 'rentType']"
      ]
     },
     "execution_count": 59,
     "metadata": {},
     "output_type": "execute_result"
    }
   ],
   "source": [
    "# 去掉特征数量较多的离散变量\n",
    "categorical_feas_hist = []\n",
    "for c in categorical_feas:\n",
    "    if c not in [\"communityName\", \"tradeTime\"]:\n",
    "        categorical_feas_hist.append(c)\n",
    "categorical_feas_hist"
   ]
  },
  {
   "cell_type": "code",
   "execution_count": 80,
   "metadata": {
    "ExecuteTime": {
     "end_time": "2019-12-24T14:05:49.677415Z",
     "start_time": "2019-12-24T14:05:44.166121Z"
    },
    "scrolled": true
   },
   "outputs": [
    {
     "name": "stdout",
     "output_type": "stream",
     "text": [
      "Type的特征数量为 2， 特征分布如下：\n",
      "Train    41440\n",
      "Test      2469\n",
      "Name: Type, dtype: int64\n"
     ]
    },
    {
     "data": {
      "image/png": "[encoded data removed]",
      "text/plain": [
       "<Figure size 432x288 with 1 Axes>"
      ]
     },
     "metadata": {
      "needs_background": "light"
     },
     "output_type": "display_data"
    },
    {
     "name": "stdout",
     "output_type": "stream",
     "text": [
      "buildYear的特征数量为 80， 特征分布如下：\n",
      "1994    3029\n",
      "暂无信息    2936\n",
      "2006    2106\n",
      "2007    1932\n",
      "2008    1931\n",
      "        ... \n",
      "1962       2\n",
      "1961       2\n",
      "1926       2\n",
      "1972       2\n",
      "1951       1\n",
      "Name: buildYear, Length: 80, dtype: int64\n"
     ]
    },
    {
     "data": {
      "image/png": "[encoded data removed]",
      "text/plain": [
       "<Figure size 432x288 with 1 Axes>"
      ]
     },
     "metadata": {
      "needs_background": "light"
     },
     "output_type": "display_data"
    },
    {
     "name": "stdout",
     "output_type": "stream",
     "text": [
      "city的特征数量为 1， 特征分布如下：\n",
      "SH    43909\n",
      "Name: city, dtype: int64\n"
     ]
    },
    {
     "data": {
      "image/png": "[encoded data removed]",
      "text/plain": [
       "<Figure size 432x288 with 1 Axes>"
      ]
     },
     "metadata": {
      "needs_background": "light"
     },
     "output_type": "display_data"
    },
    {
     "name": "stdout",
     "output_type": "stream",
     "text": [
      "houseDecoration的特征数量为 4， 特征分布如下：\n",
      "其他    31021\n",
      "精装    11288\n",
      "简装     1273\n",
      "毛坯      327\n",
      "Name: houseDecoration, dtype: int64\n"
     ]
    },
    {
     "data": {
      "image/png": "[encoded data removed]",
      "text/plain": [
       "<Figure size 432x288 with 1 Axes>"
      ]
     },
     "metadata": {
      "needs_background": "light"
     },
     "output_type": "display_data"
    },
    {
     "name": "stdout",
     "output_type": "stream",
     "text": [
      "houseFloor的特征数量为 3， 特征分布如下：\n",
      "中    16389\n",
      "高    14908\n",
      "低    12612\n",
      "Name: houseFloor, dtype: int64\n"
     ]
    },
    {
     "data": {
      "image/png": "[encoded data removed]",
      "text/plain": [
       "<Figure size 432x288 with 1 Axes>"
      ]
     },
     "metadata": {
      "needs_background": "light"
     },
     "output_type": "display_data"
    },
    {
     "name": "stdout",
     "output_type": "stream",
     "text": [
      "houseToward的特征数量为 10， 特征分布如下：\n",
      "南       35043\n",
      "南北       2784\n",
      "暂无数据     2136\n",
      "北        2043\n",
      "东南        658\n",
      "东         553\n",
      "西南        323\n",
      "西         275\n",
      "西北         70\n",
      "东西         24\n",
      "Name: houseToward, dtype: int64\n"
     ]
    },
    {
     "data": {
      "image/png": "[encoded data removed]",
      "text/plain": [
       "<Figure size 432x288 with 1 Axes>"
      ]
     },
     "metadata": {
      "needs_background": "light"
     },
     "output_type": "display_data"
    },
    {
     "name": "stdout",
     "output_type": "stream",
     "text": [
      "houseType的特征数量为 107， 特征分布如下：\n",
      "1室1厅1卫    10382\n",
      "2室1厅1卫     9153\n",
      "2室2厅1卫     7269\n",
      "3室1厅1卫     4091\n",
      "3室2厅2卫     2951\n",
      "          ...  \n",
      "6室0厅6卫        1\n",
      "4室4厅2卫        1\n",
      "9室2厅5卫        1\n",
      "7室1厅3卫        1\n",
      "0室0厅1卫        1\n",
      "Name: houseType, Length: 107, dtype: int64\n"
     ]
    },
    {
     "data": {
      "image/png": "[encoded data removed]",
      "text/plain": [
       "<Figure size 432x288 with 1 Axes>"
      ]
     },
     "metadata": {
      "needs_background": "light"
     },
     "output_type": "display_data"
    },
    {
     "name": "stdout",
     "output_type": "stream",
     "text": [
      "plate的特征数量为 66， 特征分布如下：\n",
      "BK00031    2013\n",
      "BK00033    1929\n",
      "BK00045    1894\n",
      "BK00055    1665\n",
      "BK00056    1641\n",
      "           ... \n",
      "BK00016      43\n",
      "BK00036      34\n",
      "BK00058      15\n",
      "BK00032       3\n",
      "BK00001       1\n",
      "Name: plate, Length: 66, dtype: int64\n"
     ]
    },
    {
     "data": {
      "image/png": "[encoded data removed]",
      "text/plain": [
       "<Figure size 432x288 with 1 Axes>"
      ]
     },
     "metadata": {
      "needs_background": "light"
     },
     "output_type": "display_data"
    },
    {
     "name": "stdout",
     "output_type": "stream",
     "text": [
      "region的特征数量为 15， 特征分布如下：\n",
      "RG00002    12161\n",
      "RG00005     6050\n",
      "RG00003     4364\n",
      "RG00010     3834\n",
      "RG00012     3630\n",
      "RG00004     3486\n",
      "RG00006     2016\n",
      "RG00007     1752\n",
      "RG00008     1336\n",
      "RG00013     1312\n",
      "RG00001     1234\n",
      "RG00014     1155\n",
      "RG00011      836\n",
      "RG00009      742\n",
      "RG00015        1\n",
      "Name: region, dtype: int64\n"
     ]
    },
    {
     "data": {
      "image/png": "[encoded data removed]",
      "text/plain": [
       "<Figure size 432x288 with 1 Axes>"
      ]
     },
     "metadata": {
      "needs_background": "light"
     },
     "output_type": "display_data"
    },
    {
     "name": "stdout",
     "output_type": "stream",
     "text": [
      "rentType的特征数量为 4， 特征分布如下：\n",
      "未知方式    32944\n",
      "整租       5736\n",
      "合租       5224\n",
      "--          5\n",
      "Name: rentType, dtype: int64\n"
     ]
    },
    {
     "data": {
      "image/png": "[encoded data removed]",
      "text/plain": [
       "<Figure size 432x288 with 1 Axes>"
      ]
     },
     "metadata": {
      "needs_background": "light"
     },
     "output_type": "display_data"
    }
   ],
   "source": [
    "# data_train[\"houseType\"].value_counts().plot.bar()\n",
    "\n",
    "# 特征nunique分布 特征对应取值数量分布的频数\n",
    "# 就是有多少特征对应的取值的数量在某个区间 Y轴代表有多少特征，X轴代表这些特征对应的取值的数量\n",
    "for feature in categorical_feas_hist:\n",
    "    print(\"{}的特征数量为 {}， 特征分布如下：\".format(feature, data_all[feature].nunique()))\n",
    "    print(data_all[feature].value_counts())\n",
    "    data_all[feature].value_counts().plot.hist(bins=5)\n",
    "    \n",
    "    plt.show()"
   ]
  },
  {
   "cell_type": "code",
   "execution_count": 89,
   "metadata": {},
   "outputs": [
    {
     "name": "stdout",
     "output_type": "stream",
     "text": [
      "Type的特征数量为 2， 特征分布如下：\n",
      "Train    41440\n",
      "Test      2469\n",
      "Name: Type, dtype: int64\n"
     ]
    },
    {
     "data": {
      "image/png": "[encoded data removed]",
      "text/plain": [
       "<Figure size 864x360 with 1 Axes>"
      ]
     },
     "metadata": {
      "needs_background": "light"
     },
     "output_type": "display_data"
    },
    {
     "name": "stdout",
     "output_type": "stream",
     "text": [
      "buildYear的特征数量为 80， 特征分布如下：\n",
      "1994    3029\n",
      "暂无信息    2936\n",
      "2006    2106\n",
      "2007    1932\n",
      "2008    1931\n",
      "        ... \n",
      "1962       2\n",
      "1961       2\n",
      "1926       2\n",
      "1972       2\n",
      "1951       1\n",
      "Name: buildYear, Length: 80, dtype: int64\n"
     ]
    },
    {
     "data": {
      "image/png": "[encoded data removed]",
      "text/plain": [
       "<Figure size 864x360 with 1 Axes>"
      ]
     },
     "metadata": {
      "needs_background": "light"
     },
     "output_type": "display_data"
    },
    {
     "name": "stdout",
     "output_type": "stream",
     "text": [
      "city的特征数量为 1， 特征分布如下：\n",
      "SH    43909\n",
      "Name: city, dtype: int64\n"
     ]
    },
    {
     "data": {
      "image/png": "[encoded data removed]",
      "text/plain": [
       "<Figure size 864x360 with 1 Axes>"
      ]
     },
     "metadata": {
      "needs_background": "light"
     },
     "output_type": "display_data"
    },
    {
     "name": "stdout",
     "output_type": "stream",
     "text": [
      "houseDecoration的特征数量为 4， 特征分布如下：\n",
      "其他    31021\n",
      "精装    11288\n",
      "简装     1273\n",
      "毛坯      327\n",
      "Name: houseDecoration, dtype: int64\n"
     ]
    },
    {
     "data": {
      "image/png": "[encoded data removed]",
      "text/plain": [
       "<Figure size 864x360 with 1 Axes>"
      ]
     },
     "metadata": {
      "needs_background": "light"
     },
     "output_type": "display_data"
    },
    {
     "name": "stdout",
     "output_type": "stream",
     "text": [
      "houseFloor的特征数量为 3， 特征分布如下：\n",
      "中    16389\n",
      "高    14908\n",
      "低    12612\n",
      "Name: houseFloor, dtype: int64\n"
     ]
    },
    {
     "data": {
      "image/png": "[encoded data removed]",
      "text/plain": [
       "<Figure size 864x360 with 1 Axes>"
      ]
     },
     "metadata": {
      "needs_background": "light"
     },
     "output_type": "display_data"
    },
    {
     "name": "stdout",
     "output_type": "stream",
     "text": [
      "houseToward的特征数量为 10， 特征分布如下：\n",
      "南       35043\n",
      "南北       2784\n",
      "暂无数据     2136\n",
      "北        2043\n",
      "东南        658\n",
      "东         553\n",
      "西南        323\n",
      "西         275\n",
      "西北         70\n",
      "东西         24\n",
      "Name: houseToward, dtype: int64\n"
     ]
    },
    {
     "data": {
      "image/png": "[encoded data removed]",
      "text/plain": [
       "<Figure size 864x360 with 1 Axes>"
      ]
     },
     "metadata": {
      "needs_background": "light"
     },
     "output_type": "display_data"
    },
    {
     "name": "stdout",
     "output_type": "stream",
     "text": [
      "houseType的特征数量为 107， 特征分布如下：\n",
      "1室1厅1卫    10382\n",
      "2室1厅1卫     9153\n",
      "2室2厅1卫     7269\n",
      "3室1厅1卫     4091\n",
      "3室2厅2卫     2951\n",
      "          ...  \n",
      "6室0厅6卫        1\n",
      "4室4厅2卫        1\n",
      "9室2厅5卫        1\n",
      "7室1厅3卫        1\n",
      "0室0厅1卫        1\n",
      "Name: houseType, Length: 107, dtype: int64\n"
     ]
    },
    {
     "data": {
      "image/png": "[encoded data removed]",
      "text/plain": [
       "<Figure size 864x360 with 1 Axes>"
      ]
     },
     "metadata": {
      "needs_background": "light"
     },
     "output_type": "display_data"
    },
    {
     "name": "stdout",
     "output_type": "stream",
     "text": [
      "plate的特征数量为 66， 特征分布如下：\n",
      "BK00031    2013\n",
      "BK00033    1929\n",
      "BK00045    1894\n",
      "BK00055    1665\n",
      "BK00056    1641\n",
      "           ... \n",
      "BK00016      43\n",
      "BK00036      34\n",
      "BK00058      15\n",
      "BK00032       3\n",
      "BK00001       1\n",
      "Name: plate, Length: 66, dtype: int64\n"
     ]
    },
    {
     "data": {
      "image/png": "[encoded data removed]",
      "text/plain": [
       "<Figure size 864x360 with 1 Axes>"
      ]
     },
     "metadata": {
      "needs_background": "light"
     },
     "output_type": "display_data"
    },
    {
     "name": "stdout",
     "output_type": "stream",
     "text": [
      "region的特征数量为 15， 特征分布如下：\n",
      "RG00002    12161\n",
      "RG00005     6050\n",
      "RG00003     4364\n",
      "RG00010     3834\n",
      "RG00012     3630\n",
      "RG00004     3486\n",
      "RG00006     2016\n",
      "RG00007     1752\n",
      "RG00008     1336\n",
      "RG00013     1312\n",
      "RG00001     1234\n",
      "RG00014     1155\n",
      "RG00011      836\n",
      "RG00009      742\n",
      "RG00015        1\n",
      "Name: region, dtype: int64\n"
     ]
    },
    {
     "data": {
      "image/png": "[encoded data removed]",
      "text/plain": [
       "<Figure size 864x360 with 1 Axes>"
      ]
     },
     "metadata": {
      "needs_background": "light"
     },
     "output_type": "display_data"
    },
    {
     "name": "stdout",
     "output_type": "stream",
     "text": [
      "rentType的特征数量为 4， 特征分布如下：\n",
      "未知方式    32944\n",
      "整租       5736\n",
      "合租       5224\n",
      "--          5\n",
      "Name: rentType, dtype: int64\n"
     ]
    },
    {
     "data": {
      "image/png": "[encoded data removed]",
      "text/plain": [
       "<Figure size 864x360 with 1 Axes>"
      ]
     },
     "metadata": {
      "needs_background": "light"
     },
     "output_type": "display_data"
    }
   ],
   "source": [
    "# 特征对应取值的数量，只展示前15个\n",
    "for feature in categorical_feas_hist:\n",
    "    print(\"{}的特征数量为 {}， 特征分布如下：\".format(feature, data_all[feature].nunique()))\n",
    "    print(data_all[feature].value_counts())\n",
    "    data_all[feature].value_counts()[:15].plot.bar(figsize=(12, 5))\n",
    "    plt.show()"
   ]
  },
  {
   "cell_type": "code",
   "execution_count": null,
   "metadata": {
    "ExecuteTime": {
     "end_time": "2019-12-24T14:05:49.713284Z",
     "start_time": "2019-12-24T14:05:49.681367Z"
    }
   },
   "outputs": [],
   "source": [
    "# 查看小区名称的特征分布，这里是用代号表示\n",
    "print(data_train['communityName'].value_counts())\n",
    "print(data_test['communityName'].value_counts())"
   ]
  },
  {
   "cell_type": "markdown",
   "metadata": {},
   "source": [
    "### 简要分析\n",
    "用自带函数value_counts() 来得到每个分类变量的 种类 分布；  \n",
    "并且简单画出柱状图。  \n",
    "  \n",
    "rentType：4种，且绝大多数是无用的未知方式；  \n",
    "houseType：104种，绝大多数在3室及以下；  \n",
    "houseFloor：3种，分布较为均匀；  \n",
    "region：       15种；  \n",
    "plate：        66种；  \n",
    "houseToward：    10种；  \n",
    "houseDecoration： 4种，一大半是其他；  \n",
    "buildYear：     80种；  \n",
    "communityName：   4236种，且分布较为稀疏；  \n",
    "  \n",
    "此步骤是为之后数据处理和特征工程做准备，先理解每个字段的含义以及分布，之后需要根据实际含义对分类变量做不同的处理。  "
   ]
  },
  {
   "cell_type": "markdown",
   "metadata": {},
   "source": [
    "## 8. 统计特征值频次大于100的特征"
   ]
  },
  {
   "cell_type": "code",
   "execution_count": 15,
   "metadata": {
    "ExecuteTime": {
     "end_time": "2019-12-24T14:05:51.911403Z",
     "start_time": "2019-12-24T14:05:51.761806Z"
    }
   },
   "outputs": [
    {
     "name": "stdout",
     "output_type": "stream",
     "text": [
      "  rentType  counts\n",
      "0     未知方式   30759\n",
      "1       整租    5472\n",
      "2       合租    5204\n",
      "   houseType  counts\n",
      "0     1室1厅1卫    9805\n",
      "1     2室1厅1卫    8512\n",
      "2     2室2厅1卫    6783\n",
      "3     3室1厅1卫    3992\n",
      "4     3室2厅2卫    2737\n",
      "5     4室1厅1卫    1957\n",
      "6     3室2厅1卫    1920\n",
      "7     1室0厅1卫    1286\n",
      "8     1室2厅1卫     933\n",
      "9     2室2厅2卫     881\n",
      "10    4室2厅2卫     435\n",
      "11    2室0厅1卫     419\n",
      "12    4室2厅3卫     273\n",
      "13    5室1厅1卫     197\n",
      "14    2室1厅2卫     155\n",
      "15    3室2厅3卫     149\n",
      "16    3室1厅2卫     135\n",
      "  houseFloor  counts\n",
      "0          中   15458\n",
      "1          高   14066\n",
      "2          低   11916\n",
      "     region  counts\n",
      "0   RG00002   11437\n",
      "1   RG00005    5739\n",
      "2   RG00003    4186\n",
      "3   RG00010    3640\n",
      "4   RG00012    3368\n",
      "5   RG00004    3333\n",
      "6   RG00006    1961\n",
      "7   RG00007    1610\n",
      "8   RG00008    1250\n",
      "9   RG00013    1215\n",
      "10  RG00001    1157\n",
      "11  RG00014    1069\n",
      "12  RG00011     793\n",
      "13  RG00009     681\n",
      "      plate  counts\n",
      "0   BK00031    1958\n",
      "1   BK00033    1837\n",
      "2   BK00045    1816\n",
      "3   BK00055    1566\n",
      "4   BK00056    1516\n",
      "5   BK00052    1375\n",
      "6   BK00017    1305\n",
      "7   BK00041    1266\n",
      "8   BK00054    1256\n",
      "9   BK00051    1253\n",
      "10  BK00046    1227\n",
      "11  BK00035    1156\n",
      "12  BK00042    1137\n",
      "13  BK00009    1016\n",
      "14  BK00050     979\n",
      "15  BK00043     930\n",
      "16  BK00026     906\n",
      "17  BK00047     880\n",
      "18  BK00034     849\n",
      "19  BK00013     834\n",
      "20  BK00053     819\n",
      "21  BK00028     745\n",
      "22  BK00040     679\n",
      "23  BK00060     671\n",
      "24  BK00010     651\n",
      "25  BK00029     646\n",
      "26  BK00062     618\n",
      "27  BK00022     614\n",
      "28  BK00018     613\n",
      "29  BK00064     590\n",
      "30  BK00005     549\n",
      "31  BK00003     523\n",
      "32  BK00014     500\n",
      "33  BK00019     498\n",
      "34  BK00061     477\n",
      "35  BK00011     455\n",
      "36  BK00037     444\n",
      "37  BK00012     412\n",
      "38  BK00038     398\n",
      "39  BK00024     397\n",
      "40  BK00020     384\n",
      "41  BK00002     357\n",
      "42  BK00065     348\n",
      "43  BK00027     344\n",
      "44  BK00039     343\n",
      "45  BK00063     281\n",
      "46  BK00057     278\n",
      "47  BK00015     253\n",
      "48  BK00006     231\n",
      "49  BK00021     226\n",
      "50  BK00007     225\n",
      "51  BK00066     219\n",
      "52  BK00030     219\n",
      "53  BK00049     211\n",
      "54  BK00008     210\n",
      "55  BK00004     189\n",
      "56  BK00048     165\n",
      "57  BK00025     157\n",
      "58  BK00023     127\n",
      "59  BK00059     122\n",
      "  houseToward  counts\n",
      "0           南   34377\n",
      "1          南北    2254\n",
      "2           北    2043\n",
      "3        暂无数据     963\n",
      "4          东南     655\n",
      "5           东     552\n",
      "6           西     264\n",
      "7          西南     250\n",
      "  houseDecoration  counts\n",
      "0              其他   29040\n",
      "1              精装   10918\n",
      "2              简装    1171\n",
      "3              毛坯     311\n",
      "   communityName  counts\n",
      "0        XQ01834     358\n",
      "1        XQ01274     192\n",
      "2        XQ02273     188\n",
      "3        XQ03110     185\n",
      "4        XQ02337     173\n",
      "5        XQ01389     166\n",
      "6        XQ01658     163\n",
      "7        XQ02789     152\n",
      "8        XQ00530     151\n",
      "9        XQ01561     151\n",
      "10       XQ01339     132\n",
      "11       XQ01873     122\n",
      "12       XQ00826     122\n",
      "13       XQ02296     121\n",
      "14       XQ01232     119\n",
      "15       XQ01401     118\n",
      "16       XQ02441     117\n",
      "17       XQ00196     115\n",
      "18       XQ01207     109\n",
      "19       XQ02365     109\n",
      "20       XQ01410     108\n",
      "21       XQ00852     105\n",
      "22       XQ02072     103\n",
      "23       XQ01672     103\n",
      "  city  counts\n",
      "0   SH   41440\n",
      "     region  counts\n",
      "0   RG00002   11437\n",
      "1   RG00005    5739\n",
      "2   RG00003    4186\n",
      "3   RG00010    3640\n",
      "4   RG00012    3368\n",
      "5   RG00004    3333\n",
      "6   RG00006    1961\n",
      "7   RG00007    1610\n",
      "8   RG00008    1250\n",
      "9   RG00013    1215\n",
      "10  RG00001    1157\n",
      "11  RG00014    1069\n",
      "12  RG00011     793\n",
      "13  RG00009     681\n",
      "      plate  counts\n",
      "0   BK00031    1958\n",
      "1   BK00033    1837\n",
      "2   BK00045    1816\n",
      "3   BK00055    1566\n",
      "4   BK00056    1516\n",
      "5   BK00052    1375\n",
      "6   BK00017    1305\n",
      "7   BK00041    1266\n",
      "8   BK00054    1256\n",
      "9   BK00051    1253\n",
      "10  BK00046    1227\n",
      "11  BK00035    1156\n",
      "12  BK00042    1137\n",
      "13  BK00009    1016\n",
      "14  BK00050     979\n",
      "15  BK00043     930\n",
      "16  BK00026     906\n",
      "17  BK00047     880\n",
      "18  BK00034     849\n",
      "19  BK00013     834\n",
      "20  BK00053     819\n",
      "21  BK00028     745\n",
      "22  BK00040     679\n",
      "23  BK00060     671\n",
      "24  BK00010     651\n",
      "25  BK00029     646\n",
      "26  BK00062     618\n",
      "27  BK00022     614\n",
      "28  BK00018     613\n",
      "29  BK00064     590\n",
      "30  BK00005     549\n",
      "31  BK00003     523\n",
      "32  BK00014     500\n",
      "33  BK00019     498\n",
      "34  BK00061     477\n",
      "35  BK00011     455\n",
      "36  BK00037     444\n",
      "37  BK00012     412\n",
      "38  BK00038     398\n",
      "39  BK00024     397\n",
      "40  BK00020     384\n",
      "41  BK00002     357\n",
      "42  BK00065     348\n",
      "43  BK00027     344\n",
      "44  BK00039     343\n",
      "45  BK00063     281\n",
      "46  BK00057     278\n",
      "47  BK00015     253\n",
      "48  BK00006     231\n",
      "49  BK00021     226\n",
      "50  BK00007     225\n",
      "51  BK00066     219\n",
      "52  BK00030     219\n",
      "53  BK00049     211\n",
      "54  BK00008     210\n",
      "55  BK00004     189\n",
      "56  BK00048     165\n",
      "57  BK00025     157\n",
      "58  BK00023     127\n",
      "59  BK00059     122\n",
      "   buildYear  counts\n",
      "0       1994    2851\n",
      "1       暂无信息    2808\n",
      "2       2006    2007\n",
      "3       2007    1851\n",
      "4       2008    1849\n",
      "5       2005    1814\n",
      "6       2010    1774\n",
      "7       1995    1685\n",
      "8       1993    1543\n",
      "9       2011    1498\n",
      "10      2004    1431\n",
      "11      2009    1271\n",
      "12      2014    1238\n",
      "13      2003    1156\n",
      "14      1997    1125\n",
      "15      2002    1120\n",
      "16      2012    1049\n",
      "17      1996     991\n",
      "18      2000     925\n",
      "19      2001     898\n",
      "20      2015     840\n",
      "21      1999     822\n",
      "22      1998     733\n",
      "23      2013     714\n",
      "24      1987     632\n",
      "25      1983     612\n",
      "26      1991     545\n",
      "27      1984     493\n",
      "28      1980     452\n",
      "29      1990     431\n",
      "30      1988     423\n",
      "31      1989     419\n",
      "32      1985     359\n",
      "33      1982     344\n",
      "34      1986     320\n",
      "35      1992     308\n",
      "36      1976     251\n",
      "37      1957     227\n",
      "38      1981     221\n",
      "39      1977     153\n",
      "40      1956     153\n",
      "41      2016     140\n",
      "42      1978     133\n",
      "43      1958     122\n",
      "44      1979     116\n",
      "45      1954     101\n"
     ]
    }
   ],
   "source": [
    "# 统计特征值出现频次大于100的特征\n",
    "for feature in categorical_feas:\n",
    "    df_value_counts = pd.DataFrame(data_train[feature].value_counts())\n",
    "    df_value_counts = df_value_counts.reset_index()\n",
    "    df_value_counts.columns = [feature, 'counts'] # change column names\n",
    "    print(df_value_counts[df_value_counts['counts'] >= 100])"
   ]
  },
  {
   "cell_type": "markdown",
   "metadata": {},
   "source": [
    "### 简要分析\n",
    "此步骤和特征nunique分布结合步骤结合起来看，有一些小于100的是可以直接统一归类为其他的"
   ]
  },
  {
   "cell_type": "markdown",
   "metadata": {},
   "source": [
    "## 9. Label分布"
   ]
  },
  {
   "cell_type": "code",
   "execution_count": 18,
   "metadata": {
    "ExecuteTime": {
     "end_time": "2019-12-24T14:06:19.982362Z",
     "start_time": "2019-12-24T14:06:18.263931Z"
    }
   },
   "outputs": [
    {
     "data": {
      "text/plain": [
       "<matplotlib.axes._subplots.AxesSubplot at 0x148a8d47ba8>"
      ]
     },
     "execution_count": 18,
     "metadata": {},
     "output_type": "execute_result"
    },
    {
     "data": {
      "image/png": "[encoded data removed]",
      "text/plain": [
       "<Figure size 1440x864 with 6 Axes>"
      ]
     },
     "metadata": {
      "needs_background": "light"
     },
     "output_type": "display_data"
    }
   ],
   "source": [
    "# Labe 分布\n",
    "fig,axes = plt.subplots(2,3,figsize=(20,5))\n",
    "fig.set_size_inches(20,12)\n",
    "sns.distplot(data_train['tradeMoney'],ax=axes[0][0])\n",
    "sns.distplot(data_train[(data_train['tradeMoney']<=20000)]['tradeMoney'],ax=axes[0][1])\n",
    "sns.distplot(data_train[(data_train['tradeMoney']>20000)&(data_train['tradeMoney']<=50000)]['tradeMoney'],ax=axes[0][2])\n",
    "sns.distplot(data_train[(data_train['tradeMoney']>50000)&(data_train['tradeMoney']<=100000)]['tradeMoney'],ax=axes[1][0])\n",
    "sns.distplot(data_train[(data_train['tradeMoney']>100000)]['tradeMoney'],ax=axes[1][1])"
   ]
  },
  {
   "cell_type": "code",
   "execution_count": 19,
   "metadata": {
    "ExecuteTime": {
     "end_time": "2019-12-24T14:06:22.373942Z",
     "start_time": "2019-12-24T14:06:22.313139Z"
    }
   },
   "outputs": [
    {
     "name": "stdout",
     "output_type": "stream",
     "text": [
      "money<=10000 38964\n",
      "10000<money<=20000 1985\n",
      "20000<money<=50000 433\n",
      "50000<money<=100000 39\n",
      "100000<money 19\n"
     ]
    }
   ],
   "source": [
    "print(\"money<=10000\",len(data_train[(data_train['tradeMoney']<=10000)]['tradeMoney']))\n",
    "print(\"10000<money<=20000\",len(data_train[(data_train['tradeMoney']>10000)&(data_train['tradeMoney']<=20000)]['tradeMoney']))\n",
    "print(\"20000<money<=50000\",len(data_train[(data_train['tradeMoney']>20000)&(data_train['tradeMoney']<=50000)]['tradeMoney']))\n",
    "print(\"50000<money<=100000\",len(data_train[(data_train['tradeMoney']>50000)&(data_train['tradeMoney']<=100000)]['tradeMoney']))\n",
    "print(\"100000<money\",len(data_train[(data_train['tradeMoney']>100000)]['tradeMoney']))"
   ]
  },
  {
   "cell_type": "markdown",
   "metadata": {},
   "source": [
    "### 简要分析\n",
    "将目标变量tradeMoney分组，并查看每组间的分布；  \n",
    "可以看出绝大多数都是集中在10000元以内的，并且从图中可以看到该分布是右偏的。  \n",
    "  \n",
    "这里只是一种实现方式，完全可以将tradeMoney和其他字段一起结合起来查看，比如楼层高低，地区板块。  "
   ]
  },
  {
   "cell_type": "code",
   "execution_count": null,
   "metadata": {},
   "outputs": [],
   "source": []
  }
 ],
 "metadata": {
  "kernelspec": {
   "display_name": "Python 3",
   "language": "python",
   "name": "python3"
  },
  "language_info": {
   "codemirror_mode": {
    "name": "ipython",
    "version": 3
   },
   "file_extension": ".py",
   "mimetype": "text/x-python",
   "name": "python",
   "nbconvert_exporter": "python",
   "pygments_lexer": "ipython3",
   "version": "3.5.3"
  },
  "toc": {
   "base_numbering": 1,
   "nav_menu": {},
   "number_sections": false,
   "sideBar": true,
   "skip_h1_title": false,
   "title_cell": "Table of Contents",
   "title_sidebar": "Contents",
   "toc_cell": false,
   "toc_position": {
    "height": "calc(100% - 180px)",
    "left": "10px",
    "top": "150px",
    "width": "307.2px"
   },
   "toc_section_display": true,
   "toc_window_display": true
  }
 },
 "nbformat": 4,
 "nbformat_minor": 4
}
